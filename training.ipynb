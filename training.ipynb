{
  "cells": [
    {
      "cell_type": "code",
      "execution_count": null,
      "metadata": {
        "colab": {
          "base_uri": "https://localhost:8080/"
        },
        "id": "LAszG8UPGw4O",
        "outputId": "c3f9c7e6-4e3e-43d0-e028-0e80b45199c7"
      },
      "outputs": [
        {
          "name": "stdout",
          "output_type": "stream",
          "text": [
            "Archive:  Files.zip\n",
            "  inflating: data/test/Angrily Disguisted/Angrily Disguisted0.png  \n",
            "  inflating: data/test/Angrily Surprised/Angrily Surprised1.png  \n",
            "  inflating: data/test/Appalled/Appalled2.png  \n",
            "  inflating: data/test/Awed/Awed3.png  \n",
            "  inflating: data/test/Disgustedly Surprised/Disgustedly Surprised4.png  \n",
            "  inflating: data/test/Fearfully Angry/Fearfully Angry5.png  \n",
            "  inflating: data/test/Fearfully Disguisted/Fearfully Disguisted6.png  \n",
            "  inflating: data/test/Fearfully Surprised/Fearfully Surprised7.png  \n",
            "  inflating: data/test/Happily Disguisted/Happily Disguisted8.png  \n",
            "  inflating: data/test/Happily Surprised/Happily Surprised9.png  \n",
            "  inflating: data/test/Hatred/Hatred10.png  \n",
            "  inflating: data/test/Sadly Angry/Sadly Angry11.png  \n",
            "  inflating: data/test/Sadly Disguisted/Sadly Disguisted12.png  \n",
            "  inflating: data/test/Sadly Fearful/Sadly Fearful13.png  \n",
            "  inflating: data/test/Sadly Surprised/Sadly Surprised14.png  \n",
            "  inflating: data/train/Angrily Disguisted/Angrily Disguisted0.png  \n",
            "  inflating: data/train/Angrily Disguisted/Angrily Disguisted1.png  \n",
            "  inflating: data/train/Angrily Disguisted/Angrily Disguisted2.png  \n",
            "  inflating: data/train/Angrily Disguisted/Angrily Disguisted3.png  \n",
            "  inflating: data/train/Angrily Disguisted/Angrily Disguisted4.png  \n",
            "  inflating: data/train/Angrily Disguisted/Angrily Disguisted5.png  \n",
            "  inflating: data/train/Angrily Disguisted/Angrily Disguisted6.png  \n",
            "  inflating: data/train/Angrily Disguisted/Angrily Disguisted7.png  \n",
            "  inflating: data/train/Angrily Disguisted/Angrily Disguisted8.png  \n",
            "  inflating: data/train/Angrily Surprised/Angrily Surprised10.png  \n",
            "  inflating: data/train/Angrily Surprised/Angrily Surprised11.png  \n",
            "  inflating: data/train/Angrily Surprised/Angrily Surprised12.png  \n",
            "  inflating: data/train/Angrily Surprised/Angrily Surprised13.png  \n",
            "  inflating: data/train/Angrily Surprised/Angrily Surprised14.png  \n",
            "  inflating: data/train/Angrily Surprised/Angrily Surprised9.png  \n",
            "  inflating: data/train/Appalled/Appalled15.png  \n",
            "  inflating: data/train/Awed/Awed16.png  \n",
            "  inflating: data/train/Awed/Awed17.png  \n",
            "  inflating: data/train/Disgustedly Surprised/Disgustedly Surprised18.png  \n",
            "  inflating: data/train/Disgustedly Surprised/Disgustedly Surprised19.png  \n",
            "  inflating: data/train/Disgustedly Surprised/Disgustedly Surprised20.png  \n",
            "  inflating: data/train/Disgustedly Surprised/Disgustedly Surprised21.png  \n",
            "  inflating: data/train/Fearfully Angry/Fearfully Angry22.png  \n",
            "  inflating: data/train/Fearfully Angry/Fearfully Angry23.png  \n",
            "  inflating: data/train/Fearfully Angry/Fearfully Angry24.png  \n",
            "  inflating: data/train/Fearfully Angry/Fearfully Angry25.png  \n",
            "  inflating: data/train/Fearfully Disguisted/Fearfully Disguisted26.png  \n",
            "  inflating: data/train/Fearfully Disguisted/Fearfully Disguisted27.png  \n",
            "  inflating: data/train/Fearfully Disguisted/Fearfully Disguisted28.png  \n",
            "  inflating: data/train/Fearfully Disguisted/Fearfully Disguisted29.png  \n",
            "  inflating: data/train/Fearfully Surprised/Fearfully Surprised30.png  \n",
            "  inflating: data/train/Fearfully Surprised/Fearfully Surprised31.png  \n",
            "  inflating: data/train/Fearfully Surprised/Fearfully Surprised32.png  \n",
            "  inflating: data/train/Fearfully Surprised/Fearfully Surprised33.png  \n",
            "  inflating: data/train/Happily Disguisted/Happily Disguisted34.png  \n",
            "  inflating: data/train/Happily Disguisted/Happily Disguisted35.png  \n",
            "  inflating: data/train/Happily Disguisted/Happily Disguisted36.png  \n",
            "  inflating: data/train/Happily Disguisted/Happily Disguisted37.png  \n",
            "  inflating: data/train/Happily Disguisted/Happily Disguisted38.png  \n",
            "  inflating: data/train/Happily Surprised/Happily Surprised39.png  \n",
            "  inflating: data/train/Happily Surprised/Happily Surprised40.png  \n",
            "  inflating: data/train/Happily Surprised/Happily Surprised41.png  \n",
            "  inflating: data/train/Happily Surprised/Happily Surprised42.png  \n",
            "  inflating: data/train/Happily Surprised/Happily Surprised43.png  \n",
            "  inflating: data/train/Hatred/Hatred44.png  \n",
            "  inflating: data/train/Hatred/Hatred45.png  \n",
            "  inflating: data/train/Sadly Angry/Sadly Angry46.png  \n",
            "  inflating: data/train/Sadly Angry/Sadly Angry47.png  \n",
            "  inflating: data/train/Sadly Angry/Sadly Angry48.png  \n",
            "  inflating: data/train/Sadly Angry/Sadly Angry49.png  \n",
            "  inflating: data/train/Sadly Angry/Sadly Angry50.png  \n",
            "  inflating: data/train/Sadly Disguisted/Sadly Disguisted51.png  \n",
            "  inflating: data/train/Sadly Disguisted/Sadly Disguisted52.png  \n",
            "  inflating: data/train/Sadly Disguisted/Sadly Disguisted53.png  \n",
            "  inflating: data/train/Sadly Disguisted/Sadly Disguisted54.png  \n",
            "  inflating: data/train/Sadly Fearful/Sadly Fearful55.png  \n",
            "  inflating: data/train/Sadly Fearful/Sadly Fearful56.png  \n",
            "  inflating: data/train/Sadly Fearful/Sadly Fearful57.png  \n",
            "  inflating: data/train/Sadly Fearful/Sadly Fearful58.png  \n",
            "  inflating: data/train/Sadly Surprised/Sadly Surprised59.png  \n",
            "  inflating: data/train/Sadly Surprised/Sadly Surprised60.png  \n",
            "  inflating: data/train/Sadly Surprised/Sadly Surprised61.png  \n",
            "  inflating: data/train/Sadly Surprised/Sadly Surprised62.png  \n"
          ]
        }
      ],
      "source": [
        "!unzip Files.zip"
      ]
    },
    {
      "cell_type": "code",
      "execution_count": null,
      "metadata": {
        "id": "AIXQDPKmHEcH"
      },
      "outputs": [],
      "source": [
        "accuracy = dict()"
      ]
    },
    {
      "cell_type": "code",
      "execution_count": null,
      "metadata": {
        "colab": {
          "base_uri": "https://localhost:8080/"
        },
        "id": "ZojA6FIFHan8",
        "outputId": "3e3cc601-d34e-4978-82d5-dd3b026b28bf"
      },
      "outputs": [
        {
          "name": "stdout",
          "output_type": "stream",
          "text": [
            "Found 63 images belonging to 15 classes.\n",
            "Found 15 images belonging to 15 classes.\n"
          ]
        }
      ],
      "source": [
        "from tensorflow.keras.preprocessing.image import ImageDataGenerator\n",
        "\n",
        "IMAGE_SHAPE = (124, 124)\n",
        "BATCH_SIZE = 64\n",
        "\n",
        "train_dir = \"data/train/\"\n",
        "test_dir =  \"data/test/\"\n",
        "\n",
        "train_datagen = ImageDataGenerator(rescale=1/255.,\n",
        "                                   rotation_range=0.1,\n",
        "                                   zoom_range=0.1)\n",
        "test_datagen = ImageDataGenerator(rescale=1/255.)\n",
        "\n",
        "train_data = train_datagen.flow_from_directory(train_dir,\n",
        "                                                target_size=IMAGE_SHAPE,\n",
        "                                                batch_size=BATCH_SIZE,\n",
        "                                                class_mode=\"categorical\",\n",
        "                                                shuffle=True)\n",
        "\n",
        "test_data = test_datagen.flow_from_directory(test_dir,\n",
        "                                             target_size=IMAGE_SHAPE,\n",
        "                                             batch_size=BATCH_SIZE,\n",
        "                                             class_mode=\"categorical\")"
      ]
    },
    {
      "cell_type": "code",
      "execution_count": null,
      "metadata": {
        "id": "y1m87puEHiOD"
      },
      "outputs": [],
      "source": [
        "import tensorflow as tf\n",
        "from tensorflow.keras.layers import Dense\n",
        "from tensorflow.keras.layers import Input\n",
        "from tensorflow.keras.layers import Conv2D\n",
        "from tensorflow.keras.layers import Flatten \n",
        "from tensorflow.keras import Sequential\n",
        "from tensorflow.keras.layers import MaxPool2D\n",
        "from tensorflow.keras.layers import Dropout\n",
        "from tensorflow.keras.callbacks import ReduceLROnPlateau\n",
        "from tensorflow.keras.layers import BatchNormalization"
      ]
    },
    {
      "cell_type": "code",
      "execution_count": null,
      "metadata": {
        "id": "pe0I0M0uHp14"
      },
      "outputs": [],
      "source": []
    },
    {
      "cell_type": "code",
      "execution_count": null,
      "metadata": {
        "colab": {
          "base_uri": "https://localhost:8080/"
        },
        "id": "kNDISLHvHkd6",
        "outputId": "eed0512b-4c63-49f5-8f47-ed7799cc9d34"
      },
      "outputs": [
        {
          "name": "stdout",
          "output_type": "stream",
          "text": [
            "Epoch 1/30\n",
            "1/1 [==============================] - ETA: 0s - loss: 3.5266 - accuracy: 0.0635\n",
            "Epoch 1: val_loss improved from inf to 4.25769, saving model to checkpoint/\n"
          ]
        },
        {
          "name": "stderr",
          "output_type": "stream",
          "text": [
            "WARNING:absl:Found untraced functions such as _jit_compiled_convolution_op, _jit_compiled_convolution_op, _jit_compiled_convolution_op, _jit_compiled_convolution_op, _jit_compiled_convolution_op while saving (showing 5 of 5). These functions will not be directly callable after loading.\n"
          ]
        },
        {
          "name": "stdout",
          "output_type": "stream",
          "text": [
            "\b\b\b\b\b\b\b\b\b\b\b\b\b\b\b\b\b\b\b\b\b\b\b\b\b\b\b\b\b\b\b\b\b\b\b\b\b\b\b\b\b\b\b\b\b\b\b\b\b\b\b\b\b\b\b\b\b\b\b\b\b\b\b\b\b\b\b\b\b\b\b\b\b\b\b\b\b\b\b\b\r",
            "1/1 [==============================] - 5s 5s/step - loss: 3.5266 - accuracy: 0.0635 - val_loss: 4.2577 - val_accuracy: 0.0667 - lr: 0.0010\n",
            "Epoch 2/30\n",
            "1/1 [==============================] - ETA: 0s - loss: 5.0169 - accuracy: 0.1429\n",
            "Epoch 2: val_loss improved from 4.25769 to 4.09050, saving model to checkpoint/\n"
          ]
        },
        {
          "name": "stderr",
          "output_type": "stream",
          "text": [
            "WARNING:absl:Found untraced functions such as _jit_compiled_convolution_op, _jit_compiled_convolution_op, _jit_compiled_convolution_op, _jit_compiled_convolution_op, _jit_compiled_convolution_op while saving (showing 5 of 5). These functions will not be directly callable after loading.\n"
          ]
        },
        {
          "name": "stdout",
          "output_type": "stream",
          "text": [
            "\b\b\b\b\b\b\b\b\b\b\b\b\b\b\b\b\b\b\b\b\b\b\b\b\b\b\b\b\b\b\b\b\b\b\b\b\b\b\b\b\b\b\b\b\b\b\b\b\b\b\b\b\b\b\b\b\b\b\b\b\b\b\b\b\b\b\b\b\b\b\b\b\b\b\b\b\b\b\b\b\r",
            "1/1 [==============================] - 4s 4s/step - loss: 5.0169 - accuracy: 0.1429 - val_loss: 4.0905 - val_accuracy: 0.0667 - lr: 0.0010\n",
            "Epoch 3/30\n",
            "1/1 [==============================] - ETA: 0s - loss: 4.9573 - accuracy: 0.1111\n",
            "Epoch 3: val_loss improved from 4.09050 to 3.82051, saving model to checkpoint/\n"
          ]
        },
        {
          "name": "stderr",
          "output_type": "stream",
          "text": [
            "WARNING:absl:Found untraced functions such as _jit_compiled_convolution_op, _jit_compiled_convolution_op, _jit_compiled_convolution_op, _jit_compiled_convolution_op, _jit_compiled_convolution_op while saving (showing 5 of 5). These functions will not be directly callable after loading.\n"
          ]
        },
        {
          "name": "stdout",
          "output_type": "stream",
          "text": [
            "\b\b\b\b\b\b\b\b\b\b\b\b\b\b\b\b\b\b\b\b\b\b\b\b\b\b\b\b\b\b\b\b\b\b\b\b\b\b\b\b\b\b\b\b\b\b\b\b\b\b\b\b\b\b\b\b\b\b\b\b\b\b\b\b\b\b\b\b\b\b\b\b\b\b\b\b\b\b\b\b\r",
            "1/1 [==============================] - 4s 4s/step - loss: 4.9573 - accuracy: 0.1111 - val_loss: 3.8205 - val_accuracy: 0.0667 - lr: 0.0010\n",
            "Epoch 4/30\n",
            "1/1 [==============================] - ETA: 0s - loss: 4.6006 - accuracy: 0.0635\n",
            "Epoch 4: val_loss improved from 3.82051 to 3.40689, saving model to checkpoint/\n"
          ]
        },
        {
          "name": "stderr",
          "output_type": "stream",
          "text": [
            "WARNING:absl:Found untraced functions such as _jit_compiled_convolution_op, _jit_compiled_convolution_op, _jit_compiled_convolution_op, _jit_compiled_convolution_op, _jit_compiled_convolution_op while saving (showing 5 of 5). These functions will not be directly callable after loading.\n"
          ]
        },
        {
          "name": "stdout",
          "output_type": "stream",
          "text": [
            "\b\b\b\b\b\b\b\b\b\b\b\b\b\b\b\b\b\b\b\b\b\b\b\b\b\b\b\b\b\b\b\b\b\b\b\b\b\b\b\b\b\b\b\b\b\b\b\b\b\b\b\b\b\b\b\b\b\b\b\b\b\b\b\b\b\b\b\b\b\b\b\b\b\b\b\b\b\b\b\b\r",
            "1/1 [==============================] - 4s 4s/step - loss: 4.6006 - accuracy: 0.0635 - val_loss: 3.4069 - val_accuracy: 0.0667 - lr: 0.0010\n",
            "Epoch 5/30\n",
            "1/1 [==============================] - ETA: 0s - loss: 4.1465 - accuracy: 0.0476\n",
            "Epoch 5: val_loss improved from 3.40689 to 3.05358, saving model to checkpoint/\n"
          ]
        },
        {
          "name": "stderr",
          "output_type": "stream",
          "text": [
            "WARNING:absl:Found untraced functions such as _jit_compiled_convolution_op, _jit_compiled_convolution_op, _jit_compiled_convolution_op, _jit_compiled_convolution_op, _jit_compiled_convolution_op while saving (showing 5 of 5). These functions will not be directly callable after loading.\n"
          ]
        },
        {
          "name": "stdout",
          "output_type": "stream",
          "text": [
            "\b\b\b\b\b\b\b\b\b\b\b\b\b\b\b\b\b\b\b\b\b\b\b\b\b\b\b\b\b\b\b\b\b\b\b\b\b\b\b\b\b\b\b\b\b\b\b\b\b\b\b\b\b\b\b\b\b\b\b\b\b\b\b\b\b\b\b\b\b\b\b\b\b\b\b\b\b\b\b\b\r",
            "1/1 [==============================] - 4s 4s/step - loss: 4.1465 - accuracy: 0.0476 - val_loss: 3.0536 - val_accuracy: 0.0667 - lr: 0.0010\n",
            "Epoch 6/30\n",
            "1/1 [==============================] - ETA: 0s - loss: 3.2829 - accuracy: 0.0952\n",
            "Epoch 6: val_loss improved from 3.05358 to 2.83476, saving model to checkpoint/\n"
          ]
        },
        {
          "name": "stderr",
          "output_type": "stream",
          "text": [
            "WARNING:absl:Found untraced functions such as _jit_compiled_convolution_op, _jit_compiled_convolution_op, _jit_compiled_convolution_op, _jit_compiled_convolution_op, _jit_compiled_convolution_op while saving (showing 5 of 5). These functions will not be directly callable after loading.\n"
          ]
        },
        {
          "name": "stdout",
          "output_type": "stream",
          "text": [
            "\b\b\b\b\b\b\b\b\b\b\b\b\b\b\b\b\b\b\b\b\b\b\b\b\b\b\b\b\b\b\b\b\b\b\b\b\b\b\b\b\b\b\b\b\b\b\b\b\b\b\b\b\b\b\b\b\b\b\b\b\b\b\b\b\b\b\b\b\b\b\b\b\b\b\b\b\b\b\b\b\r",
            "1/1 [==============================] - 4s 4s/step - loss: 3.2829 - accuracy: 0.0952 - val_loss: 2.8348 - val_accuracy: 0.0667 - lr: 0.0010\n",
            "Epoch 7/30\n",
            "1/1 [==============================] - ETA: 0s - loss: 3.1334 - accuracy: 0.1111\n",
            "Epoch 7: val_loss improved from 2.83476 to 2.80361, saving model to checkpoint/\n"
          ]
        },
        {
          "name": "stderr",
          "output_type": "stream",
          "text": [
            "WARNING:absl:Found untraced functions such as _jit_compiled_convolution_op, _jit_compiled_convolution_op, _jit_compiled_convolution_op, _jit_compiled_convolution_op, _jit_compiled_convolution_op while saving (showing 5 of 5). These functions will not be directly callable after loading.\n"
          ]
        },
        {
          "name": "stdout",
          "output_type": "stream",
          "text": [
            "\b\b\b\b\b\b\b\b\b\b\b\b\b\b\b\b\b\b\b\b\b\b\b\b\b\b\b\b\b\b\b\b\b\b\b\b\b\b\b\b\b\b\b\b\b\b\b\b\b\b\b\b\b\b\b\b\b\b\b\b\b\b\b\b\b\b\b\b\b\b\b\b\b\b\b\b\b\b\b\b\r",
            "1/1 [==============================] - 4s 4s/step - loss: 3.1334 - accuracy: 0.1111 - val_loss: 2.8036 - val_accuracy: 0.0667 - lr: 0.0010\n",
            "Epoch 8/30\n",
            "1/1 [==============================] - ETA: 0s - loss: 3.1548 - accuracy: 0.1270\n",
            "Epoch 8: val_loss did not improve from 2.80361\n",
            "1/1 [==============================] - 2s 2s/step - loss: 3.1548 - accuracy: 0.1270 - val_loss: 2.8222 - val_accuracy: 0.0667 - lr: 0.0010\n",
            "Epoch 9/30\n",
            "1/1 [==============================] - ETA: 0s - loss: 3.3722 - accuracy: 0.1111\n",
            "Epoch 9: val_loss did not improve from 2.80361\n",
            "1/1 [==============================] - 2s 2s/step - loss: 3.3722 - accuracy: 0.1111 - val_loss: 2.8277 - val_accuracy: 0.0667 - lr: 0.0010\n",
            "Epoch 10/30\n",
            "1/1 [==============================] - ETA: 0s - loss: 3.0103 - accuracy: 0.1587\n",
            "Epoch 10: val_loss did not improve from 2.80361\n",
            "1/1 [==============================] - 2s 2s/step - loss: 3.0103 - accuracy: 0.1587 - val_loss: 2.8248 - val_accuracy: 0.0667 - lr: 2.0000e-04\n",
            "Epoch 11/30\n",
            "1/1 [==============================] - ETA: 0s - loss: 3.1442 - accuracy: 0.0635\n",
            "Epoch 11: val_loss did not improve from 2.80361\n",
            "1/1 [==============================] - 2s 2s/step - loss: 3.1442 - accuracy: 0.0635 - val_loss: 2.8177 - val_accuracy: 0.0667 - lr: 2.0000e-04\n",
            "Epoch 12/30\n",
            "1/1 [==============================] - ETA: 0s - loss: 3.0582 - accuracy: 0.0952\n",
            "Epoch 12: val_loss did not improve from 2.80361\n",
            "1/1 [==============================] - 2s 2s/step - loss: 3.0582 - accuracy: 0.0952 - val_loss: 2.8097 - val_accuracy: 0.0667 - lr: 2.0000e-04\n",
            "Epoch 13/30\n",
            "1/1 [==============================] - ETA: 0s - loss: 2.9678 - accuracy: 0.1270\n",
            "Epoch 13: val_loss improved from 2.80361 to 2.80179, saving model to checkpoint/\n"
          ]
        },
        {
          "name": "stderr",
          "output_type": "stream",
          "text": [
            "WARNING:absl:Found untraced functions such as _jit_compiled_convolution_op, _jit_compiled_convolution_op, _jit_compiled_convolution_op, _jit_compiled_convolution_op, _jit_compiled_convolution_op while saving (showing 5 of 5). These functions will not be directly callable after loading.\n"
          ]
        },
        {
          "name": "stdout",
          "output_type": "stream",
          "text": [
            "\b\b\b\b\b\b\b\b\b\b\b\b\b\b\b\b\b\b\b\b\b\b\b\b\b\b\b\b\b\b\b\b\b\b\b\b\b\b\b\b\b\b\b\b\b\b\b\b\b\b\b\b\b\b\b\b\b\b\b\b\b\b\b\b\b\b\b\b\b\b\b\b\b\b\b\b\b\b\b\b\r",
            "1/1 [==============================] - 4s 4s/step - loss: 2.9678 - accuracy: 0.1270 - val_loss: 2.8018 - val_accuracy: 0.0667 - lr: 2.0000e-04\n",
            "Epoch 14/30\n",
            "1/1 [==============================] - ETA: 0s - loss: 2.9923 - accuracy: 0.0794\n",
            "Epoch 14: val_loss improved from 2.80179 to 2.79435, saving model to checkpoint/\n"
          ]
        },
        {
          "name": "stderr",
          "output_type": "stream",
          "text": [
            "WARNING:absl:Found untraced functions such as _jit_compiled_convolution_op, _jit_compiled_convolution_op, _jit_compiled_convolution_op, _jit_compiled_convolution_op, _jit_compiled_convolution_op while saving (showing 5 of 5). These functions will not be directly callable after loading.\n"
          ]
        },
        {
          "name": "stdout",
          "output_type": "stream",
          "text": [
            "\b\b\b\b\b\b\b\b\b\b\b\b\b\b\b\b\b\b\b\b\b\b\b\b\b\b\b\b\b\b\b\b\b\b\b\b\b\b\b\b\b\b\b\b\b\b\b\b\b\b\b\b\b\b\b\b\b\b\b\b\b\b\b\b\b\b\b\b\b\b\b\b\b\b\b\b\b\b\b\b\r",
            "1/1 [==============================] - 4s 4s/step - loss: 2.9923 - accuracy: 0.0794 - val_loss: 2.7944 - val_accuracy: 0.0667 - lr: 2.0000e-04\n",
            "Epoch 15/30\n",
            "1/1 [==============================] - ETA: 0s - loss: 2.7874 - accuracy: 0.1111\n",
            "Epoch 15: val_loss improved from 2.79435 to 2.78784, saving model to checkpoint/\n"
          ]
        },
        {
          "name": "stderr",
          "output_type": "stream",
          "text": [
            "WARNING:absl:Found untraced functions such as _jit_compiled_convolution_op, _jit_compiled_convolution_op, _jit_compiled_convolution_op, _jit_compiled_convolution_op, _jit_compiled_convolution_op while saving (showing 5 of 5). These functions will not be directly callable after loading.\n"
          ]
        },
        {
          "name": "stdout",
          "output_type": "stream",
          "text": [
            "\b\b\b\b\b\b\b\b\b\b\b\b\b\b\b\b\b\b\b\b\b\b\b\b\b\b\b\b\b\b\b\b\b\b\b\b\b\b\b\b\b\b\b\b\b\b\b\b\b\b\b\b\b\b\b\b\b\b\b\b\b\b\b\b\b\b\b\b\b\b\b\b\b\b\b\b\b\b\b\b\r",
            "1/1 [==============================] - 4s 4s/step - loss: 2.7874 - accuracy: 0.1111 - val_loss: 2.7878 - val_accuracy: 0.0667 - lr: 2.0000e-04\n",
            "Epoch 16/30\n",
            "1/1 [==============================] - ETA: 0s - loss: 2.6087 - accuracy: 0.1429\n",
            "Epoch 16: val_loss improved from 2.78784 to 2.78212, saving model to checkpoint/\n"
          ]
        },
        {
          "name": "stderr",
          "output_type": "stream",
          "text": [
            "WARNING:absl:Found untraced functions such as _jit_compiled_convolution_op, _jit_compiled_convolution_op, _jit_compiled_convolution_op, _jit_compiled_convolution_op, _jit_compiled_convolution_op while saving (showing 5 of 5). These functions will not be directly callable after loading.\n"
          ]
        },
        {
          "name": "stdout",
          "output_type": "stream",
          "text": [
            "\b\b\b\b\b\b\b\b\b\b\b\b\b\b\b\b\b\b\b\b\b\b\b\b\b\b\b\b\b\b\b\b\b\b\b\b\b\b\b\b\b\b\b\b\b\b\b\b\b\b\b\b\b\b\b\b\b\b\b\b\b\b\b\b\b\b\b\b\b\b\b\b\b\b\b\b\b\b\b\b\r",
            "1/1 [==============================] - 4s 4s/step - loss: 2.6087 - accuracy: 0.1429 - val_loss: 2.7821 - val_accuracy: 0.0667 - lr: 2.0000e-04\n",
            "Epoch 17/30\n",
            "1/1 [==============================] - ETA: 0s - loss: 2.7835 - accuracy: 0.1270\n",
            "Epoch 17: val_loss improved from 2.78212 to 2.77674, saving model to checkpoint/\n"
          ]
        },
        {
          "name": "stderr",
          "output_type": "stream",
          "text": [
            "WARNING:absl:Found untraced functions such as _jit_compiled_convolution_op, _jit_compiled_convolution_op, _jit_compiled_convolution_op, _jit_compiled_convolution_op, _jit_compiled_convolution_op while saving (showing 5 of 5). These functions will not be directly callable after loading.\n"
          ]
        },
        {
          "name": "stdout",
          "output_type": "stream",
          "text": [
            "\b\b\b\b\b\b\b\b\b\b\b\b\b\b\b\b\b\b\b\b\b\b\b\b\b\b\b\b\b\b\b\b\b\b\b\b\b\b\b\b\b\b\b\b\b\b\b\b\b\b\b\b\b\b\b\b\b\b\b\b\b\b\b\b\b\b\b\b\b\b\b\b\b\b\b\b\b\b\b\b\r",
            "1/1 [==============================] - 4s 4s/step - loss: 2.7835 - accuracy: 0.1270 - val_loss: 2.7767 - val_accuracy: 0.0667 - lr: 2.0000e-04\n",
            "Epoch 18/30\n",
            "1/1 [==============================] - ETA: 0s - loss: 2.5995 - accuracy: 0.1746\n",
            "Epoch 18: val_loss improved from 2.77674 to 2.77568, saving model to checkpoint/\n"
          ]
        },
        {
          "name": "stderr",
          "output_type": "stream",
          "text": [
            "WARNING:absl:Found untraced functions such as _jit_compiled_convolution_op, _jit_compiled_convolution_op, _jit_compiled_convolution_op, _jit_compiled_convolution_op, _jit_compiled_convolution_op while saving (showing 5 of 5). These functions will not be directly callable after loading.\n"
          ]
        },
        {
          "name": "stdout",
          "output_type": "stream",
          "text": [
            "\b\b\b\b\b\b\b\b\b\b\b\b\b\b\b\b\b\b\b\b\b\b\b\b\b\b\b\b\b\b\b\b\b\b\b\b\b\b\b\b\b\b\b\b\b\b\b\b\b\b\b\b\b\b\b\b\b\b\b\b\b\b\b\b\b\b\b\b\b\b\b\b\b\b\b\b\b\b\b\b\r",
            "1/1 [==============================] - 4s 4s/step - loss: 2.5995 - accuracy: 0.1746 - val_loss: 2.7757 - val_accuracy: 0.0667 - lr: 4.0000e-05\n",
            "Epoch 19/30\n",
            "1/1 [==============================] - ETA: 0s - loss: 2.5190 - accuracy: 0.1429\n",
            "Epoch 19: val_loss improved from 2.77568 to 2.77437, saving model to checkpoint/\n"
          ]
        },
        {
          "name": "stderr",
          "output_type": "stream",
          "text": [
            "WARNING:absl:Found untraced functions such as _jit_compiled_convolution_op, _jit_compiled_convolution_op, _jit_compiled_convolution_op, _jit_compiled_convolution_op, _jit_compiled_convolution_op while saving (showing 5 of 5). These functions will not be directly callable after loading.\n"
          ]
        },
        {
          "name": "stdout",
          "output_type": "stream",
          "text": [
            "\b\b\b\b\b\b\b\b\b\b\b\b\b\b\b\b\b\b\b\b\b\b\b\b\b\b\b\b\b\b\b\b\b\b\b\b\b\b\b\b\b\b\b\b\b\b\b\b\b\b\b\b\b\b\b\b\b\b\b\b\b\b\b\b\b\b\b\b\b\b\b\b\b\b\b\b\b\b\b\b\r",
            "1/1 [==============================] - 4s 4s/step - loss: 2.5190 - accuracy: 0.1429 - val_loss: 2.7744 - val_accuracy: 0.0667 - lr: 4.0000e-05\n",
            "Epoch 20/30\n",
            "1/1 [==============================] - ETA: 0s - loss: 2.7345 - accuracy: 0.0952\n",
            "Epoch 20: val_loss improved from 2.77437 to 2.77298, saving model to checkpoint/\n"
          ]
        },
        {
          "name": "stderr",
          "output_type": "stream",
          "text": [
            "WARNING:absl:Found untraced functions such as _jit_compiled_convolution_op, _jit_compiled_convolution_op, _jit_compiled_convolution_op, _jit_compiled_convolution_op, _jit_compiled_convolution_op while saving (showing 5 of 5). These functions will not be directly callable after loading.\n"
          ]
        },
        {
          "name": "stdout",
          "output_type": "stream",
          "text": [
            "\b\b\b\b\b\b\b\b\b\b\b\b\b\b\b\b\b\b\b\b\b\b\b\b\b\b\b\b\b\b\b\b\b\b\b\b\b\b\b\b\b\b\b\b\b\b\b\b\b\b\b\b\b\b\b\b\b\b\b\b\b\b\b\b\b\b\b\b\b\b\b\b\b\b\b\b\b\b\b\b\r",
            "1/1 [==============================] - 4s 4s/step - loss: 2.7345 - accuracy: 0.0952 - val_loss: 2.7730 - val_accuracy: 0.0667 - lr: 4.0000e-05\n",
            "Epoch 21/30\n",
            "1/1 [==============================] - ETA: 0s - loss: 2.5650 - accuracy: 0.2222\n",
            "Epoch 21: val_loss improved from 2.77298 to 2.77138, saving model to checkpoint/\n"
          ]
        },
        {
          "name": "stderr",
          "output_type": "stream",
          "text": [
            "WARNING:absl:Found untraced functions such as _jit_compiled_convolution_op, _jit_compiled_convolution_op, _jit_compiled_convolution_op, _jit_compiled_convolution_op, _jit_compiled_convolution_op while saving (showing 5 of 5). These functions will not be directly callable after loading.\n"
          ]
        },
        {
          "name": "stdout",
          "output_type": "stream",
          "text": [
            "\b\b\b\b\b\b\b\b\b\b\b\b\b\b\b\b\b\b\b\b\b\b\b\b\b\b\b\b\b\b\b\b\b\b\b\b\b\b\b\b\b\b\b\b\b\b\b\b\b\b\b\b\b\b\b\b\b\b\b\b\b\b\b\b\b\b\b\b\b\b\b\b\b\b\b\b\b\b\b\b\r",
            "1/1 [==============================] - 4s 4s/step - loss: 2.5650 - accuracy: 0.2222 - val_loss: 2.7714 - val_accuracy: 0.0667 - lr: 4.0000e-05\n",
            "Epoch 22/30\n",
            "1/1 [==============================] - ETA: 0s - loss: 2.6051 - accuracy: 0.1905\n",
            "Epoch 22: val_loss improved from 2.77138 to 2.76978, saving model to checkpoint/\n"
          ]
        },
        {
          "name": "stderr",
          "output_type": "stream",
          "text": [
            "WARNING:absl:Found untraced functions such as _jit_compiled_convolution_op, _jit_compiled_convolution_op, _jit_compiled_convolution_op, _jit_compiled_convolution_op, _jit_compiled_convolution_op while saving (showing 5 of 5). These functions will not be directly callable after loading.\n"
          ]
        },
        {
          "name": "stdout",
          "output_type": "stream",
          "text": [
            "\b\b\b\b\b\b\b\b\b\b\b\b\b\b\b\b\b\b\b\b\b\b\b\b\b\b\b\b\b\b\b\b\b\b\b\b\b\b\b\b\b\b\b\b\b\b\b\b\b\b\b\b\b\b\b\b\b\b\b\b\b\b\b\b\b\b\b\b\b\b\b\b\b\b\b\b\b\b\b\b\r",
            "1/1 [==============================] - 4s 4s/step - loss: 2.6051 - accuracy: 0.1905 - val_loss: 2.7698 - val_accuracy: 0.0667 - lr: 4.0000e-05\n",
            "Epoch 23/30\n",
            "1/1 [==============================] - ETA: 0s - loss: 2.5495 - accuracy: 0.1905\n",
            "Epoch 23: val_loss improved from 2.76978 to 2.76815, saving model to checkpoint/\n"
          ]
        },
        {
          "name": "stderr",
          "output_type": "stream",
          "text": [
            "WARNING:absl:Found untraced functions such as _jit_compiled_convolution_op, _jit_compiled_convolution_op, _jit_compiled_convolution_op, _jit_compiled_convolution_op, _jit_compiled_convolution_op while saving (showing 5 of 5). These functions will not be directly callable after loading.\n"
          ]
        },
        {
          "name": "stdout",
          "output_type": "stream",
          "text": [
            "\b\b\b\b\b\b\b\b\b\b\b\b\b\b\b\b\b\b\b\b\b\b\b\b\b\b\b\b\b\b\b\b\b\b\b\b\b\b\b\b\b\b\b\b\b\b\b\b\b\b\b\b\b\b\b\b\b\b\b\b\b\b\b\b\b\b\b\b\b\b\b\b\b\b\b\b\b\b\b\b\r",
            "1/1 [==============================] - 4s 4s/step - loss: 2.5495 - accuracy: 0.1905 - val_loss: 2.7681 - val_accuracy: 0.0667 - lr: 4.0000e-05\n",
            "Epoch 24/30\n",
            "1/1 [==============================] - ETA: 0s - loss: 2.6877 - accuracy: 0.1111\n",
            "Epoch 24: val_loss improved from 2.76815 to 2.76646, saving model to checkpoint/\n"
          ]
        },
        {
          "name": "stderr",
          "output_type": "stream",
          "text": [
            "WARNING:absl:Found untraced functions such as _jit_compiled_convolution_op, _jit_compiled_convolution_op, _jit_compiled_convolution_op, _jit_compiled_convolution_op, _jit_compiled_convolution_op while saving (showing 5 of 5). These functions will not be directly callable after loading.\n"
          ]
        },
        {
          "name": "stdout",
          "output_type": "stream",
          "text": [
            "\b\b\b\b\b\b\b\b\b\b\b\b\b\b\b\b\b\b\b\b\b\b\b\b\b\b\b\b\b\b\b\b\b\b\b\b\b\b\b\b\b\b\b\b\b\b\b\b\b\b\b\b\b\b\b\b\b\b\b\b\b\b\b\b\b\b\b\b\b\b\b\b\b\b\b\b\b\b\b\b\r",
            "1/1 [==============================] - 4s 4s/step - loss: 2.6877 - accuracy: 0.1111 - val_loss: 2.7665 - val_accuracy: 0.0667 - lr: 4.0000e-05\n",
            "Epoch 25/30\n",
            "1/1 [==============================] - ETA: 0s - loss: 2.6419 - accuracy: 0.1270\n",
            "Epoch 25: val_loss improved from 2.76646 to 2.76480, saving model to checkpoint/\n"
          ]
        },
        {
          "name": "stderr",
          "output_type": "stream",
          "text": [
            "WARNING:absl:Found untraced functions such as _jit_compiled_convolution_op, _jit_compiled_convolution_op, _jit_compiled_convolution_op, _jit_compiled_convolution_op, _jit_compiled_convolution_op while saving (showing 5 of 5). These functions will not be directly callable after loading.\n"
          ]
        },
        {
          "name": "stdout",
          "output_type": "stream",
          "text": [
            "\b\b\b\b\b\b\b\b\b\b\b\b\b\b\b\b\b\b\b\b\b\b\b\b\b\b\b\b\b\b\b\b\b\b\b\b\b\b\b\b\b\b\b\b\b\b\b\b\b\b\b\b\b\b\b\b\b\b\b\b\b\b\b\b\b\b\b\b\b\b\b\b\b\b\b\b\b\b\b\b\r",
            "1/1 [==============================] - 4s 4s/step - loss: 2.6419 - accuracy: 0.1270 - val_loss: 2.7648 - val_accuracy: 0.0667 - lr: 4.0000e-05\n",
            "Epoch 26/30\n",
            "1/1 [==============================] - ETA: 0s - loss: 2.5410 - accuracy: 0.1429\n",
            "Epoch 26: val_loss improved from 2.76480 to 2.76436, saving model to checkpoint/\n"
          ]
        },
        {
          "name": "stderr",
          "output_type": "stream",
          "text": [
            "WARNING:absl:Found untraced functions such as _jit_compiled_convolution_op, _jit_compiled_convolution_op, _jit_compiled_convolution_op, _jit_compiled_convolution_op, _jit_compiled_convolution_op while saving (showing 5 of 5). These functions will not be directly callable after loading.\n"
          ]
        },
        {
          "name": "stdout",
          "output_type": "stream",
          "text": [
            "\b\b\b\b\b\b\b\b\b\b\b\b\b\b\b\b\b\b\b\b\b\b\b\b\b\b\b\b\b\b\b\b\b\b\b\b\b\b\b\b\b\b\b\b\b\b\b\b\b\b\b\b\b\b\b\b\b\b\b\b\b\b\b\b\b\b\b\b\b\b\b\b\b\b\b\b\b\b\b\b\r",
            "1/1 [==============================] - 4s 4s/step - loss: 2.5410 - accuracy: 0.1429 - val_loss: 2.7644 - val_accuracy: 0.0667 - lr: 1.0000e-05\n",
            "Epoch 27/30\n",
            "1/1 [==============================] - ETA: 0s - loss: 2.5778 - accuracy: 0.1270\n",
            "Epoch 27: val_loss improved from 2.76436 to 2.76391, saving model to checkpoint/\n"
          ]
        },
        {
          "name": "stderr",
          "output_type": "stream",
          "text": [
            "WARNING:absl:Found untraced functions such as _jit_compiled_convolution_op, _jit_compiled_convolution_op, _jit_compiled_convolution_op, _jit_compiled_convolution_op, _jit_compiled_convolution_op while saving (showing 5 of 5). These functions will not be directly callable after loading.\n"
          ]
        },
        {
          "name": "stdout",
          "output_type": "stream",
          "text": [
            "\b\b\b\b\b\b\b\b\b\b\b\b\b\b\b\b\b\b\b\b\b\b\b\b\b\b\b\b\b\b\b\b\b\b\b\b\b\b\b\b\b\b\b\b\b\b\b\b\b\b\b\b\b\b\b\b\b\b\b\b\b\b\b\b\b\b\b\b\b\b\b\b\b\b\b\b\b\b\b\b\r",
            "1/1 [==============================] - 4s 4s/step - loss: 2.5778 - accuracy: 0.1270 - val_loss: 2.7639 - val_accuracy: 0.0667 - lr: 1.0000e-05\n",
            "Epoch 28/30\n",
            "1/1 [==============================] - ETA: 0s - loss: 2.7373 - accuracy: 0.1587\n",
            "Epoch 28: val_loss improved from 2.76391 to 2.76345, saving model to checkpoint/\n"
          ]
        },
        {
          "name": "stderr",
          "output_type": "stream",
          "text": [
            "WARNING:absl:Found untraced functions such as _jit_compiled_convolution_op, _jit_compiled_convolution_op, _jit_compiled_convolution_op, _jit_compiled_convolution_op, _jit_compiled_convolution_op while saving (showing 5 of 5). These functions will not be directly callable after loading.\n"
          ]
        },
        {
          "name": "stdout",
          "output_type": "stream",
          "text": [
            "\b\b\b\b\b\b\b\b\b\b\b\b\b\b\b\b\b\b\b\b\b\b\b\b\b\b\b\b\b\b\b\b\b\b\b\b\b\b\b\b\b\b\b\b\b\b\b\b\b\b\b\b\b\b\b\b\b\b\b\b\b\b\b\b\b\b\b\b\b\b\b\b\b\b\b\b\b\b\b\b\r",
            "1/1 [==============================] - 4s 4s/step - loss: 2.7373 - accuracy: 0.1587 - val_loss: 2.7634 - val_accuracy: 0.0667 - lr: 1.0000e-05\n",
            "Epoch 29/30\n",
            "1/1 [==============================] - ETA: 0s - loss: 2.7527 - accuracy: 0.1270\n",
            "Epoch 29: val_loss improved from 2.76345 to 2.76300, saving model to checkpoint/\n"
          ]
        },
        {
          "name": "stderr",
          "output_type": "stream",
          "text": [
            "WARNING:absl:Found untraced functions such as _jit_compiled_convolution_op, _jit_compiled_convolution_op, _jit_compiled_convolution_op, _jit_compiled_convolution_op, _jit_compiled_convolution_op while saving (showing 5 of 5). These functions will not be directly callable after loading.\n"
          ]
        },
        {
          "name": "stdout",
          "output_type": "stream",
          "text": [
            "\b\b\b\b\b\b\b\b\b\b\b\b\b\b\b\b\b\b\b\b\b\b\b\b\b\b\b\b\b\b\b\b\b\b\b\b\b\b\b\b\b\b\b\b\b\b\b\b\b\b\b\b\b\b\b\b\b\b\b\b\b\b\b\b\b\b\b\b\b\b\b\b\b\b\b\b\b\b\b\b\r",
            "1/1 [==============================] - 4s 4s/step - loss: 2.7527 - accuracy: 0.1270 - val_loss: 2.7630 - val_accuracy: 0.0667 - lr: 1.0000e-05\n",
            "Epoch 30/30\n",
            "1/1 [==============================] - ETA: 0s - loss: 2.6442 - accuracy: 0.1746\n",
            "Epoch 30: val_loss improved from 2.76300 to 2.76255, saving model to checkpoint/\n"
          ]
        },
        {
          "name": "stderr",
          "output_type": "stream",
          "text": [
            "WARNING:absl:Found untraced functions such as _jit_compiled_convolution_op, _jit_compiled_convolution_op, _jit_compiled_convolution_op, _jit_compiled_convolution_op, _jit_compiled_convolution_op while saving (showing 5 of 5). These functions will not be directly callable after loading.\n"
          ]
        },
        {
          "name": "stdout",
          "output_type": "stream",
          "text": [
            "\b\b\b\b\b\b\b\b\b\b\b\b\b\b\b\b\b\b\b\b\b\b\b\b\b\b\b\b\b\b\b\b\b\b\b\b\b\b\b\b\b\b\b\b\b\b\b\b\b\b\b\b\b\b\b\b\b\b\b\b\b\b\b\b\b\b\b\b\b\b\b\b\b\b\b\b\b\b\b\b\r",
            "1/1 [==============================] - 4s 4s/step - loss: 2.6442 - accuracy: 0.1746 - val_loss: 2.7626 - val_accuracy: 0.0667 - lr: 1.0000e-05\n"
          ]
        }
      ],
      "source": [
        "\n",
        "# batch size 64\n",
        "tf.random.set_seed(42)\n",
        "# Create the model\n",
        "model_1 = Sequential([\n",
        "  tf.keras.layers.Input(shape=(124, 124, 3)),\n",
        "  tf.keras.layers.Conv2D(512, (3,3), activation=\"sigmoid\", padding=\"same\"),\n",
        "  BatchNormalization(),\n",
        "  tf.keras.layers.Conv2D(256, (3,3), activation=\"sigmoid\", padding=\"same\"),\n",
        "  BatchNormalization(),\n",
        "  tf.keras.layers.MaxPool2D(2),\n",
        "  tf.keras.layers.Dropout(0.5),\n",
        "  tf.keras.layers.Conv2D(128, (3,3), activation=\"sigmoid\", padding=\"same\"),\n",
        "  BatchNormalization(),\n",
        "  tf.keras.layers.Conv2D(64, (3,3), activation=\"sigmoid\", padding=\"same\"),\n",
        "  BatchNormalization(),\n",
        "  tf.keras.layers.MaxPool2D(2),\n",
        "  tf.keras.layers.Dropout(0.5),\n",
        "  tf.keras.layers.Conv2D(32, (3,3), activation=\"sigmoid\", padding=\"same\"),\n",
        "  tf.keras.layers.MaxPool2D(2),\n",
        "  tf.keras.layers.Dropout(0.5),\n",
        "  tf.keras.layers.Flatten(),\n",
        "  tf.keras.layers.Dense(15, activation=\"softmax\")\n",
        "])\n",
        "\n",
        "# Compile the model\n",
        "model_1.compile(loss=\"categorical_crossentropy\",\n",
        "                optimizer=tf.keras.optimizers.Adam(),\n",
        "                metrics=[\"accuracy\"])\n",
        "\n",
        "checkpoint_callback = tf.keras.callbacks.ModelCheckpoint(filepath=\"checkpoint/\",\n",
        "                                                         save_weights_only=False,\n",
        "                                                         save_best_only=True,\n",
        "                                                         save_freq=\"epoch\",\n",
        "                                                         verbose=1)\n",
        "\n",
        "reduce_lr = ReduceLROnPlateau(monitor='val_accuracy', factor=0.2,\n",
        "                              patience=8, min_lr=0.00001)\n",
        "\n",
        "# Fit the model\n",
        "history = model_1.fit(train_data, epochs=30, callbacks=[reduce_lr, checkpoint_callback], validation_data=test_data)"
      ]
    },
    {
      "cell_type": "code",
      "execution_count": null,
      "metadata": {
        "colab": {
          "base_uri": "https://localhost:8080/"
        },
        "id": "eYIv4meUUBWb",
        "outputId": "adda80d0-9bed-4fe7-8741-a22a2431468e"
      },
      "outputs": [
        {
          "data": {
            "text/plain": [
              "<keras.callbacks.History at 0x7f0690029b50>"
            ]
          },
          "execution_count": 6,
          "metadata": {},
          "output_type": "execute_result"
        }
      ],
      "source": [
        "history"
      ]
    },
    {
      "cell_type": "code",
      "execution_count": null,
      "metadata": {
        "colab": {
          "base_uri": "https://localhost:8080/",
          "height": 541
        },
        "id": "HDkcfkMSUDvI",
        "outputId": "a33ee1c3-470e-4eab-8fad-851ee281abd2"
      },
      "outputs": [
        {
          "data": {
            "image/png": "[encoded data removed]",
            "text/plain": [
              "<Figure size 432x288 with 1 Axes>"
            ]
          },
          "metadata": {
            "needs_background": "light"
          },
          "output_type": "display_data"
        },
        {
          "data": {
            "image/png": "[encoded data removed]",
            "text/plain": [
              "<Figure size 432x288 with 1 Axes>"
            ]
          },
          "metadata": {
            "needs_background": "light"
          },
          "output_type": "display_data"
        }
      ],
      "source": [
        "import matplotlib.pyplot as plt\n",
        "\n",
        "def plot_graphs(history, string):\n",
        "  plt.plot(history.history[string])\n",
        "  plt.plot(history.history['val_'+string])\n",
        "  plt.xlabel('Epochs')\n",
        "  plt.ylabel(string)\n",
        "  plt.legend([string, 'val_'+string])\n",
        "  plt.show()\n",
        "\n",
        "plot_graphs(history, 'accuracy')\n",
        "plot_graphs(history, 'loss')"
      ]
    },
    {
      "cell_type": "code",
      "execution_count": null,
      "metadata": {
        "id": "IJYgBZ12VHzx"
      },
      "outputs": [],
      "source": [
        "model_1.save(\"model_sigmoid_function.h5\")"
      ]
    },
    {
      "cell_type": "code",
      "execution_count": null,
      "metadata": {
        "colab": {
          "base_uri": "https://localhost:8080/"
        },
        "id": "K3bRVBn6VL-E",
        "outputId": "2d645c37-194c-42d4-e855-3120314eeae2"
      },
      "outputs": [
        {
          "name": "stdout",
          "output_type": "stream",
          "text": [
            "checkpoint  data  Files.zip  model_sigmoid.h5  sample_data\n"
          ]
        }
      ],
      "source": [
        "!ls"
      ]
    },
    {
      "cell_type": "code",
      "execution_count": null,
      "metadata": {
        "colab": {
          "base_uri": "https://localhost:8080/"
        },
        "id": "AMmqMi99VOND",
        "outputId": "b42aeef4-e866-42e8-8b5c-03480de6927a"
      },
      "outputs": [
        {
          "name": "stdout",
          "output_type": "stream",
          "text": [
            "Epoch 1/30\n",
            "1/1 [==============================] - ETA: 0s - loss: 9.1593 - accuracy: 0.0635\n",
            "Epoch 1: val_loss improved from inf to 2.69487, saving model to checkpoint/\n"
          ]
        },
        {
          "name": "stderr",
          "output_type": "stream",
          "text": [
            "WARNING:absl:Found untraced functions such as _jit_compiled_convolution_op, _jit_compiled_convolution_op, _jit_compiled_convolution_op, _jit_compiled_convolution_op, _jit_compiled_convolution_op while saving (showing 5 of 5). These functions will not be directly callable after loading.\n"
          ]
        },
        {
          "name": "stdout",
          "output_type": "stream",
          "text": [
            "\b\b\b\b\b\b\b\b\b\b\b\b\b\b\b\b\b\b\b\b\b\b\b\b\b\b\b\b\b\b\b\b\b\b\b\b\b\b\b\b\b\b\b\b\b\b\b\b\b\b\b\b\b\b\b\b\b\b\b\b\b\b\b\b\b\b\b\b\b\b\b\b\b\b\b\b\b\b\b\b\r",
            "1/1 [==============================] - 10s 10s/step - loss: 9.1593 - accuracy: 0.0635 - val_loss: 2.6949 - val_accuracy: 0.0667 - lr: 0.0010\n",
            "Epoch 2/30\n",
            "1/1 [==============================] - ETA: 0s - loss: 12.0553 - accuracy: 0.0794\n",
            "Epoch 2: val_loss improved from 2.69487 to 2.68540, saving model to checkpoint/\n"
          ]
        },
        {
          "name": "stderr",
          "output_type": "stream",
          "text": [
            "WARNING:absl:Found untraced functions such as _jit_compiled_convolution_op, _jit_compiled_convolution_op, _jit_compiled_convolution_op, _jit_compiled_convolution_op, _jit_compiled_convolution_op while saving (showing 5 of 5). These functions will not be directly callable after loading.\n"
          ]
        },
        {
          "name": "stdout",
          "output_type": "stream",
          "text": [
            "\b\b\b\b\b\b\b\b\b\b\b\b\b\b\b\b\b\b\b\b\b\b\b\b\b\b\b\b\b\b\b\b\b\b\b\b\b\b\b\b\b\b\b\b\b\b\b\b\b\b\b\b\b\b\b\b\b\b\b\b\b\b\b\b\b\b\b\b\b\b\b\b\b\b\b\b\b\b\b\b\b\r",
            "1/1 [==============================] - 4s 4s/step - loss: 12.0553 - accuracy: 0.0794 - val_loss: 2.6854 - val_accuracy: 0.0667 - lr: 0.0010\n",
            "Epoch 3/30\n",
            "1/1 [==============================] - ETA: 0s - loss: 11.0193 - accuracy: 0.0952\n",
            "Epoch 3: val_loss did not improve from 2.68540\n",
            "1/1 [==============================] - 2s 2s/step - loss: 11.0193 - accuracy: 0.0952 - val_loss: 2.6913 - val_accuracy: 0.0667 - lr: 0.0010\n",
            "Epoch 4/30\n",
            "1/1 [==============================] - ETA: 0s - loss: 7.3779 - accuracy: 0.0952\n",
            "Epoch 4: val_loss did not improve from 2.68540\n",
            "1/1 [==============================] - 2s 2s/step - loss: 7.3779 - accuracy: 0.0952 - val_loss: 2.7003 - val_accuracy: 0.0667 - lr: 0.0010\n",
            "Epoch 5/30\n",
            "1/1 [==============================] - ETA: 0s - loss: 7.3470 - accuracy: 0.1270\n",
            "Epoch 5: val_loss did not improve from 2.68540\n",
            "1/1 [==============================] - 2s 2s/step - loss: 7.3470 - accuracy: 0.1270 - val_loss: 2.6984 - val_accuracy: 0.0667 - lr: 0.0010\n",
            "Epoch 6/30\n",
            "1/1 [==============================] - ETA: 0s - loss: 5.6001 - accuracy: 0.2222\n",
            "Epoch 6: val_loss improved from 2.68540 to 2.67893, saving model to checkpoint/\n"
          ]
        },
        {
          "name": "stderr",
          "output_type": "stream",
          "text": [
            "WARNING:absl:Found untraced functions such as _jit_compiled_convolution_op, _jit_compiled_convolution_op, _jit_compiled_convolution_op, _jit_compiled_convolution_op, _jit_compiled_convolution_op while saving (showing 5 of 5). These functions will not be directly callable after loading.\n"
          ]
        },
        {
          "name": "stdout",
          "output_type": "stream",
          "text": [
            "\b\b\b\b\b\b\b\b\b\b\b\b\b\b\b\b\b\b\b\b\b\b\b\b\b\b\b\b\b\b\b\b\b\b\b\b\b\b\b\b\b\b\b\b\b\b\b\b\b\b\b\b\b\b\b\b\b\b\b\b\b\b\b\b\b\b\b\b\b\b\b\b\b\b\b\b\b\b\b\b\r",
            "1/1 [==============================] - 4s 4s/step - loss: 5.6001 - accuracy: 0.2222 - val_loss: 2.6789 - val_accuracy: 0.1333 - lr: 0.0010\n",
            "Epoch 7/30\n",
            "1/1 [==============================] - ETA: 0s - loss: 5.4111 - accuracy: 0.1587\n",
            "Epoch 7: val_loss improved from 2.67893 to 2.65315, saving model to checkpoint/\n"
          ]
        },
        {
          "name": "stderr",
          "output_type": "stream",
          "text": [
            "WARNING:absl:Found untraced functions such as _jit_compiled_convolution_op, _jit_compiled_convolution_op, _jit_compiled_convolution_op, _jit_compiled_convolution_op, _jit_compiled_convolution_op while saving (showing 5 of 5). These functions will not be directly callable after loading.\n"
          ]
        },
        {
          "name": "stdout",
          "output_type": "stream",
          "text": [
            "\b\b\b\b\b\b\b\b\b\b\b\b\b\b\b\b\b\b\b\b\b\b\b\b\b\b\b\b\b\b\b\b\b\b\b\b\b\b\b\b\b\b\b\b\b\b\b\b\b\b\b\b\b\b\b\b\b\b\b\b\b\b\b\b\b\b\b\b\b\b\b\b\b\b\b\b\b\b\b\b\r",
            "1/1 [==============================] - 4s 4s/step - loss: 5.4111 - accuracy: 0.1587 - val_loss: 2.6532 - val_accuracy: 0.1333 - lr: 0.0010\n",
            "Epoch 8/30\n",
            "1/1 [==============================] - ETA: 0s - loss: 5.8196 - accuracy: 0.0794\n",
            "Epoch 8: val_loss did not improve from 2.65315\n",
            "1/1 [==============================] - 2s 2s/step - loss: 5.8196 - accuracy: 0.0794 - val_loss: 2.6588 - val_accuracy: 0.0667 - lr: 0.0010\n",
            "Epoch 9/30\n",
            "1/1 [==============================] - ETA: 0s - loss: 4.8513 - accuracy: 0.0952\n",
            "Epoch 9: val_loss did not improve from 2.65315\n",
            "1/1 [==============================] - 2s 2s/step - loss: 4.8513 - accuracy: 0.0952 - val_loss: 2.7021 - val_accuracy: 0.0667 - lr: 0.0010\n",
            "Epoch 10/30\n",
            "1/1 [==============================] - ETA: 0s - loss: 3.9146 - accuracy: 0.1587\n",
            "Epoch 10: val_loss did not improve from 2.65315\n",
            "1/1 [==============================] - 2s 2s/step - loss: 3.9146 - accuracy: 0.1587 - val_loss: 2.7308 - val_accuracy: 0.0667 - lr: 0.0010\n",
            "Epoch 11/30\n",
            "1/1 [==============================] - ETA: 0s - loss: 4.5082 - accuracy: 0.1429\n",
            "Epoch 11: val_loss did not improve from 2.65315\n",
            "1/1 [==============================] - 2s 2s/step - loss: 4.5082 - accuracy: 0.1429 - val_loss: 2.7145 - val_accuracy: 0.0667 - lr: 0.0010\n",
            "Epoch 12/30\n",
            "1/1 [==============================] - ETA: 0s - loss: 3.9683 - accuracy: 0.1587\n",
            "Epoch 12: val_loss did not improve from 2.65315\n",
            "1/1 [==============================] - 2s 2s/step - loss: 3.9683 - accuracy: 0.1587 - val_loss: 2.6767 - val_accuracy: 0.0667 - lr: 0.0010\n",
            "Epoch 13/30\n",
            "1/1 [==============================] - ETA: 0s - loss: 4.0424 - accuracy: 0.1905\n",
            "Epoch 13: val_loss improved from 2.65315 to 2.65206, saving model to checkpoint/\n"
          ]
        },
        {
          "name": "stderr",
          "output_type": "stream",
          "text": [
            "WARNING:absl:Found untraced functions such as _jit_compiled_convolution_op, _jit_compiled_convolution_op, _jit_compiled_convolution_op, _jit_compiled_convolution_op, _jit_compiled_convolution_op while saving (showing 5 of 5). These functions will not be directly callable after loading.\n"
          ]
        },
        {
          "name": "stdout",
          "output_type": "stream",
          "text": [
            "\b\b\b\b\b\b\b\b\b\b\b\b\b\b\b\b\b\b\b\b\b\b\b\b\b\b\b\b\b\b\b\b\b\b\b\b\b\b\b\b\b\b\b\b\b\b\b\b\b\b\b\b\b\b\b\b\b\b\b\b\b\b\b\b\b\b\b\b\b\b\b\b\b\b\b\b\b\b\b\b\r",
            "1/1 [==============================] - 4s 4s/step - loss: 4.0424 - accuracy: 0.1905 - val_loss: 2.6521 - val_accuracy: 0.0667 - lr: 0.0010\n",
            "Epoch 14/30\n",
            "1/1 [==============================] - ETA: 0s - loss: 3.5000 - accuracy: 0.2381\n",
            "Epoch 14: val_loss improved from 2.65206 to 2.64417, saving model to checkpoint/\n"
          ]
        },
        {
          "name": "stderr",
          "output_type": "stream",
          "text": [
            "WARNING:absl:Found untraced functions such as _jit_compiled_convolution_op, _jit_compiled_convolution_op, _jit_compiled_convolution_op, _jit_compiled_convolution_op, _jit_compiled_convolution_op while saving (showing 5 of 5). These functions will not be directly callable after loading.\n"
          ]
        },
        {
          "name": "stdout",
          "output_type": "stream",
          "text": [
            "\b\b\b\b\b\b\b\b\b\b\b\b\b\b\b\b\b\b\b\b\b\b\b\b\b\b\b\b\b\b\b\b\b\b\b\b\b\b\b\b\b\b\b\b\b\b\b\b\b\b\b\b\b\b\b\b\b\b\b\b\b\b\b\b\b\b\b\b\b\b\b\b\b\b\b\b\b\b\b\b\r",
            "1/1 [==============================] - 4s 4s/step - loss: 3.5000 - accuracy: 0.2381 - val_loss: 2.6442 - val_accuracy: 0.0667 - lr: 0.0010\n",
            "Epoch 15/30\n",
            "1/1 [==============================] - ETA: 0s - loss: 3.3840 - accuracy: 0.1746\n",
            "Epoch 15: val_loss did not improve from 2.64417\n",
            "1/1 [==============================] - 2s 2s/step - loss: 3.3840 - accuracy: 0.1746 - val_loss: 2.6466 - val_accuracy: 0.1333 - lr: 2.0000e-04\n",
            "Epoch 16/30\n",
            "1/1 [==============================] - ETA: 0s - loss: 3.7153 - accuracy: 0.1746\n",
            "Epoch 16: val_loss did not improve from 2.64417\n",
            "1/1 [==============================] - 2s 2s/step - loss: 3.7153 - accuracy: 0.1746 - val_loss: 2.6501 - val_accuracy: 0.1333 - lr: 2.0000e-04\n",
            "Epoch 17/30\n",
            "1/1 [==============================] - ETA: 0s - loss: 3.2155 - accuracy: 0.1746\n",
            "Epoch 17: val_loss did not improve from 2.64417\n",
            "1/1 [==============================] - 2s 2s/step - loss: 3.2155 - accuracy: 0.1746 - val_loss: 2.6546 - val_accuracy: 0.1333 - lr: 2.0000e-04\n",
            "Epoch 18/30\n",
            "1/1 [==============================] - ETA: 0s - loss: 3.2726 - accuracy: 0.1746\n",
            "Epoch 18: val_loss did not improve from 2.64417\n",
            "1/1 [==============================] - 2s 2s/step - loss: 3.2726 - accuracy: 0.1746 - val_loss: 2.6571 - val_accuracy: 0.0667 - lr: 2.0000e-04\n",
            "Epoch 19/30\n",
            "1/1 [==============================] - ETA: 0s - loss: 3.2148 - accuracy: 0.2063\n",
            "Epoch 19: val_loss did not improve from 2.64417\n",
            "1/1 [==============================] - 2s 2s/step - loss: 3.2148 - accuracy: 0.2063 - val_loss: 2.6527 - val_accuracy: 0.0667 - lr: 2.0000e-04\n",
            "Epoch 20/30\n",
            "1/1 [==============================] - ETA: 0s - loss: 2.9495 - accuracy: 0.1746\n",
            "Epoch 20: val_loss did not improve from 2.64417\n",
            "1/1 [==============================] - 2s 2s/step - loss: 2.9495 - accuracy: 0.1746 - val_loss: 2.6465 - val_accuracy: 0.0667 - lr: 2.0000e-04\n",
            "Epoch 21/30\n",
            "1/1 [==============================] - ETA: 0s - loss: 3.2060 - accuracy: 0.2063\n",
            "Epoch 21: val_loss improved from 2.64417 to 2.63555, saving model to checkpoint/\n"
          ]
        },
        {
          "name": "stderr",
          "output_type": "stream",
          "text": [
            "WARNING:absl:Found untraced functions such as _jit_compiled_convolution_op, _jit_compiled_convolution_op, _jit_compiled_convolution_op, _jit_compiled_convolution_op, _jit_compiled_convolution_op while saving (showing 5 of 5). These functions will not be directly callable after loading.\n"
          ]
        },
        {
          "name": "stdout",
          "output_type": "stream",
          "text": [
            "\b\b\b\b\b\b\b\b\b\b\b\b\b\b\b\b\b\b\b\b\b\b\b\b\b\b\b\b\b\b\b\b\b\b\b\b\b\b\b\b\b\b\b\b\b\b\b\b\b\b\b\b\b\b\b\b\b\b\b\b\b\b\b\b\b\b\b\b\b\b\b\b\b\b\b\b\b\b\b\b\r",
            "1/1 [==============================] - 4s 4s/step - loss: 3.2060 - accuracy: 0.2063 - val_loss: 2.6355 - val_accuracy: 0.0667 - lr: 2.0000e-04\n",
            "Epoch 22/30\n",
            "1/1 [==============================] - ETA: 0s - loss: 3.6794 - accuracy: 0.0952\n",
            "Epoch 22: val_loss improved from 2.63555 to 2.62657, saving model to checkpoint/\n"
          ]
        },
        {
          "name": "stderr",
          "output_type": "stream",
          "text": [
            "WARNING:absl:Found untraced functions such as _jit_compiled_convolution_op, _jit_compiled_convolution_op, _jit_compiled_convolution_op, _jit_compiled_convolution_op, _jit_compiled_convolution_op while saving (showing 5 of 5). These functions will not be directly callable after loading.\n"
          ]
        },
        {
          "name": "stdout",
          "output_type": "stream",
          "text": [
            "\b\b\b\b\b\b\b\b\b\b\b\b\b\b\b\b\b\b\b\b\b\b\b\b\b\b\b\b\b\b\b\b\b\b\b\b\b\b\b\b\b\b\b\b\b\b\b\b\b\b\b\b\b\b\b\b\b\b\b\b\b\b\b\b\b\b\b\b\b\b\b\b\b\b\b\b\b\b\b\b\r",
            "1/1 [==============================] - 4s 4s/step - loss: 3.6794 - accuracy: 0.0952 - val_loss: 2.6266 - val_accuracy: 0.0667 - lr: 2.0000e-04\n",
            "Epoch 23/30\n",
            "1/1 [==============================] - ETA: 0s - loss: 3.1114 - accuracy: 0.1270\n",
            "Epoch 23: val_loss improved from 2.62657 to 2.62281, saving model to checkpoint/\n"
          ]
        },
        {
          "name": "stderr",
          "output_type": "stream",
          "text": [
            "WARNING:absl:Found untraced functions such as _jit_compiled_convolution_op, _jit_compiled_convolution_op, _jit_compiled_convolution_op, _jit_compiled_convolution_op, _jit_compiled_convolution_op while saving (showing 5 of 5). These functions will not be directly callable after loading.\n"
          ]
        },
        {
          "name": "stdout",
          "output_type": "stream",
          "text": [
            "\b\b\b\b\b\b\b\b\b\b\b\b\b\b\b\b\b\b\b\b\b\b\b\b\b\b\b\b\b\b\b\b\b\b\b\b\b\b\b\b\b\b\b\b\b\b\b\b\b\b\b\b\b\b\b\b\b\b\b\b\b\b\b\b\b\b\b\b\b\b\b\b\b\b\b\b\b\b\b\b\r",
            "1/1 [==============================] - 4s 4s/step - loss: 3.1114 - accuracy: 0.1270 - val_loss: 2.6228 - val_accuracy: 0.0667 - lr: 4.0000e-05\n",
            "Epoch 24/30\n",
            "1/1 [==============================] - ETA: 0s - loss: 3.2026 - accuracy: 0.1429\n",
            "Epoch 24: val_loss improved from 2.62281 to 2.62075, saving model to checkpoint/\n"
          ]
        },
        {
          "name": "stderr",
          "output_type": "stream",
          "text": [
            "WARNING:absl:Found untraced functions such as _jit_compiled_convolution_op, _jit_compiled_convolution_op, _jit_compiled_convolution_op, _jit_compiled_convolution_op, _jit_compiled_convolution_op while saving (showing 5 of 5). These functions will not be directly callable after loading.\n"
          ]
        },
        {
          "name": "stdout",
          "output_type": "stream",
          "text": [
            "\b\b\b\b\b\b\b\b\b\b\b\b\b\b\b\b\b\b\b\b\b\b\b\b\b\b\b\b\b\b\b\b\b\b\b\b\b\b\b\b\b\b\b\b\b\b\b\b\b\b\b\b\b\b\b\b\b\b\b\b\b\b\b\b\b\b\b\b\b\b\b\b\b\b\b\b\b\b\b\b\r",
            "1/1 [==============================] - 4s 4s/step - loss: 3.2026 - accuracy: 0.1429 - val_loss: 2.6208 - val_accuracy: 0.1333 - lr: 4.0000e-05\n",
            "Epoch 25/30\n",
            "1/1 [==============================] - ETA: 0s - loss: 3.1813 - accuracy: 0.1270\n",
            "Epoch 25: val_loss improved from 2.62075 to 2.62023, saving model to checkpoint/\n"
          ]
        },
        {
          "name": "stderr",
          "output_type": "stream",
          "text": [
            "WARNING:absl:Found untraced functions such as _jit_compiled_convolution_op, _jit_compiled_convolution_op, _jit_compiled_convolution_op, _jit_compiled_convolution_op, _jit_compiled_convolution_op while saving (showing 5 of 5). These functions will not be directly callable after loading.\n"
          ]
        },
        {
          "name": "stdout",
          "output_type": "stream",
          "text": [
            "\b\b\b\b\b\b\b\b\b\b\b\b\b\b\b\b\b\b\b\b\b\b\b\b\b\b\b\b\b\b\b\b\b\b\b\b\b\b\b\b\b\b\b\b\b\b\b\b\b\b\b\b\b\b\b\b\b\b\b\b\b\b\b\b\b\b\b\b\b\b\b\b\b\b\b\b\b\b\b\b\r",
            "1/1 [==============================] - 4s 4s/step - loss: 3.1813 - accuracy: 0.1270 - val_loss: 2.6202 - val_accuracy: 0.1333 - lr: 4.0000e-05\n",
            "Epoch 26/30\n",
            "1/1 [==============================] - ETA: 0s - loss: 2.7925 - accuracy: 0.2063\n",
            "Epoch 26: val_loss did not improve from 2.62023\n",
            "1/1 [==============================] - 2s 2s/step - loss: 2.7925 - accuracy: 0.2063 - val_loss: 2.6212 - val_accuracy: 0.1333 - lr: 4.0000e-05\n",
            "Epoch 27/30\n",
            "1/1 [==============================] - ETA: 0s - loss: 2.7921 - accuracy: 0.2222\n",
            "Epoch 27: val_loss did not improve from 2.62023\n",
            "1/1 [==============================] - 2s 2s/step - loss: 2.7921 - accuracy: 0.2222 - val_loss: 2.6236 - val_accuracy: 0.1333 - lr: 4.0000e-05\n",
            "Epoch 28/30\n",
            "1/1 [==============================] - ETA: 0s - loss: 3.0430 - accuracy: 0.2063\n",
            "Epoch 28: val_loss did not improve from 2.62023\n",
            "1/1 [==============================] - 2s 2s/step - loss: 3.0430 - accuracy: 0.2063 - val_loss: 2.6246 - val_accuracy: 0.1333 - lr: 4.0000e-05\n",
            "Epoch 29/30\n",
            "1/1 [==============================] - ETA: 0s - loss: 2.6091 - accuracy: 0.2222\n",
            "Epoch 29: val_loss did not improve from 2.62023\n",
            "1/1 [==============================] - 2s 2s/step - loss: 2.6091 - accuracy: 0.2222 - val_loss: 2.6251 - val_accuracy: 0.0667 - lr: 4.0000e-05\n",
            "Epoch 30/30\n",
            "1/1 [==============================] - ETA: 0s - loss: 2.9277 - accuracy: 0.2698\n",
            "Epoch 30: val_loss did not improve from 2.62023\n",
            "1/1 [==============================] - 2s 2s/step - loss: 2.9277 - accuracy: 0.2698 - val_loss: 2.6252 - val_accuracy: 0.0667 - lr: 4.0000e-05\n"
          ]
        }
      ],
      "source": [
        "\n",
        "# batch size 64\n",
        "tf.random.set_seed(42)\n",
        "# Create the model\n",
        "model_1 = Sequential([\n",
        "  tf.keras.layers.Input(shape=(124, 124, 3)),\n",
        "  tf.keras.layers.Conv2D(512, (3,3), activation=\"relu\", padding=\"same\"),\n",
        "  BatchNormalization(),\n",
        "  tf.keras.layers.Conv2D(256, (3,3), activation=\"relu\", padding=\"same\"),\n",
        "  BatchNormalization(),\n",
        "  tf.keras.layers.MaxPool2D(2),\n",
        "  tf.keras.layers.Dropout(0.5),\n",
        "  tf.keras.layers.Conv2D(128, (3,3), activation=\"relu\", padding=\"same\"),\n",
        "  BatchNormalization(),\n",
        "  tf.keras.layers.Conv2D(64, (3,3), activation=\"relu\", padding=\"same\"),\n",
        "  BatchNormalization(),\n",
        "  tf.keras.layers.MaxPool2D(2),\n",
        "  tf.keras.layers.Dropout(0.5),\n",
        "  tf.keras.layers.Conv2D(32, (3,3), activation=\"relu\", padding=\"same\"),\n",
        "  tf.keras.layers.MaxPool2D(2),\n",
        "  tf.keras.layers.Dropout(0.5),\n",
        "  tf.keras.layers.Flatten(),\n",
        "  tf.keras.layers.Dense(15, activation=\"softmax\")\n",
        "])\n",
        "\n",
        "# Compile the model\n",
        "model_1.compile(loss=\"categorical_crossentropy\",\n",
        "                optimizer=tf.keras.optimizers.Adam(),\n",
        "                metrics=[\"accuracy\"])\n",
        "\n",
        "checkpoint_callback = tf.keras.callbacks.ModelCheckpoint(filepath=\"checkpoint/\",\n",
        "                                                         save_weights_only=False,\n",
        "                                                         save_best_only=True,\n",
        "                                                         save_freq=\"epoch\",\n",
        "                                                         verbose=1)\n",
        "\n",
        "reduce_lr = ReduceLROnPlateau(monitor='val_accuracy', factor=0.2,\n",
        "                              patience=8, min_lr=0.00001)\n",
        "\n",
        "# Fit the model\n",
        "history = model_1.fit(train_data, epochs=30, callbacks=[reduce_lr, checkpoint_callback], validation_data=test_data)"
      ]
    },
    {
      "cell_type": "code",
      "execution_count": null,
      "metadata": {
        "colab": {
          "base_uri": "https://localhost:8080/",
          "height": 541
        },
        "id": "lhz6QBm2VcZ7",
        "outputId": "3c84d568-b291-4c5f-bf49-94d0d0d552bf"
      },
      "outputs": [
        {
          "data": {
            "image/png": "[encoded data removed]",
            "text/plain": [
              "<Figure size 432x288 with 1 Axes>"
            ]
          },
          "metadata": {
            "needs_background": "light"
          },
          "output_type": "display_data"
        },
        {
          "data": {
            "image/png": "[encoded data removed]",
            "text/plain": [
              "<Figure size 432x288 with 1 Axes>"
            ]
          },
          "metadata": {
            "needs_background": "light"
          },
          "output_type": "display_data"
        }
      ],
      "source": [
        "import matplotlib.pyplot as plt\n",
        "\n",
        "def plot_graphs(history, string):\n",
        "  plt.plot(history.history[string])\n",
        "  plt.plot(history.history['val_'+string])\n",
        "  plt.xlabel('Epochs')\n",
        "  plt.ylabel(string)\n",
        "  plt.legend([string, 'val_'+string])\n",
        "  plt.show()\n",
        "\n",
        "plot_graphs(history, 'accuracy')\n",
        "plot_graphs(history, 'loss')"
      ]
    },
    {
      "cell_type": "code",
      "execution_count": null,
      "metadata": {
        "id": "NmVjECJTWALL"
      },
      "outputs": [],
      "source": [
        "model_1.save(\"model_relu.h5\")"
      ]
    },
    {
      "cell_type": "code",
      "execution_count": null,
      "metadata": {
        "id": "cuqKF9giWPiJ"
      },
      "outputs": [],
      "source": []
    },
    {
      "cell_type": "code",
      "execution_count": null,
      "metadata": {
        "colab": {
          "base_uri": "https://localhost:8080/"
        },
        "id": "Oq4DFlhSW1fB",
        "outputId": "eaf27c53-7d11-4636-9b12-c0bd20c30c20"
      },
      "outputs": [
        {
          "name": "stdout",
          "output_type": "stream",
          "text": [
            "Epoch 1/30\n",
            "1/1 [==============================] - ETA: 0s - loss: 8.2628 - accuracy: 0.1270\n",
            "Epoch 1: val_loss improved from inf to 6.16840, saving model to checkpoint/\n"
          ]
        },
        {
          "name": "stderr",
          "output_type": "stream",
          "text": [
            "WARNING:absl:Found untraced functions such as _jit_compiled_convolution_op, _jit_compiled_convolution_op, _jit_compiled_convolution_op, _jit_compiled_convolution_op, _jit_compiled_convolution_op while saving (showing 5 of 5). These functions will not be directly callable after loading.\n"
          ]
        },
        {
          "name": "stdout",
          "output_type": "stream",
          "text": [
            "\b\b\b\b\b\b\b\b\b\b\b\b\b\b\b\b\b\b\b\b\b\b\b\b\b\b\b\b\b\b\b\b\b\b\b\b\b\b\b\b\b\b\b\b\b\b\b\b\b\b\b\b\b\b\b\b\b\b\b\b\b\b\b\b\b\b\b\b\b\b\b\b\b\b\b\b\b\b\b\b\r",
            "1/1 [==============================] - 5s 5s/step - loss: 8.2628 - accuracy: 0.1270 - val_loss: 6.1684 - val_accuracy: 0.0667 - lr: 0.0010\n",
            "Epoch 2/30\n",
            "1/1 [==============================] - ETA: 0s - loss: 13.3778 - accuracy: 0.1111\n",
            "Epoch 2: val_loss improved from 6.16840 to 5.46323, saving model to checkpoint/\n"
          ]
        },
        {
          "name": "stderr",
          "output_type": "stream",
          "text": [
            "WARNING:absl:Found untraced functions such as _jit_compiled_convolution_op, _jit_compiled_convolution_op, _jit_compiled_convolution_op, _jit_compiled_convolution_op, _jit_compiled_convolution_op while saving (showing 5 of 5). These functions will not be directly callable after loading.\n"
          ]
        },
        {
          "name": "stdout",
          "output_type": "stream",
          "text": [
            "\b\b\b\b\b\b\b\b\b\b\b\b\b\b\b\b\b\b\b\b\b\b\b\b\b\b\b\b\b\b\b\b\b\b\b\b\b\b\b\b\b\b\b\b\b\b\b\b\b\b\b\b\b\b\b\b\b\b\b\b\b\b\b\b\b\b\b\b\b\b\b\b\b\b\b\b\b\b\b\b\b\r",
            "1/1 [==============================] - 4s 4s/step - loss: 13.3778 - accuracy: 0.1111 - val_loss: 5.4632 - val_accuracy: 0.0667 - lr: 0.0010\n",
            "Epoch 3/30\n",
            "1/1 [==============================] - ETA: 0s - loss: 13.1230 - accuracy: 0.1270\n",
            "Epoch 3: val_loss improved from 5.46323 to 4.67580, saving model to checkpoint/\n"
          ]
        },
        {
          "name": "stderr",
          "output_type": "stream",
          "text": [
            "WARNING:absl:Found untraced functions such as _jit_compiled_convolution_op, _jit_compiled_convolution_op, _jit_compiled_convolution_op, _jit_compiled_convolution_op, _jit_compiled_convolution_op while saving (showing 5 of 5). These functions will not be directly callable after loading.\n"
          ]
        },
        {
          "name": "stdout",
          "output_type": "stream",
          "text": [
            "\b\b\b\b\b\b\b\b\b\b\b\b\b\b\b\b\b\b\b\b\b\b\b\b\b\b\b\b\b\b\b\b\b\b\b\b\b\b\b\b\b\b\b\b\b\b\b\b\b\b\b\b\b\b\b\b\b\b\b\b\b\b\b\b\b\b\b\b\b\b\b\b\b\b\b\b\b\b\b\b\b\r",
            "1/1 [==============================] - 4s 4s/step - loss: 13.1230 - accuracy: 0.1270 - val_loss: 4.6758 - val_accuracy: 0.0667 - lr: 0.0010\n",
            "Epoch 4/30\n",
            "1/1 [==============================] - ETA: 0s - loss: 10.6953 - accuracy: 0.0794\n",
            "Epoch 4: val_loss improved from 4.67580 to 4.12064, saving model to checkpoint/\n"
          ]
        },
        {
          "name": "stderr",
          "output_type": "stream",
          "text": [
            "WARNING:absl:Found untraced functions such as _jit_compiled_convolution_op, _jit_compiled_convolution_op, _jit_compiled_convolution_op, _jit_compiled_convolution_op, _jit_compiled_convolution_op while saving (showing 5 of 5). These functions will not be directly callable after loading.\n"
          ]
        },
        {
          "name": "stdout",
          "output_type": "stream",
          "text": [
            "\b\b\b\b\b\b\b\b\b\b\b\b\b\b\b\b\b\b\b\b\b\b\b\b\b\b\b\b\b\b\b\b\b\b\b\b\b\b\b\b\b\b\b\b\b\b\b\b\b\b\b\b\b\b\b\b\b\b\b\b\b\b\b\b\b\b\b\b\b\b\b\b\b\b\b\b\b\b\b\b\b\r",
            "1/1 [==============================] - 4s 4s/step - loss: 10.6953 - accuracy: 0.0794 - val_loss: 4.1206 - val_accuracy: 0.1333 - lr: 0.0010\n",
            "Epoch 5/30\n",
            "1/1 [==============================] - ETA: 0s - loss: 7.8735 - accuracy: 0.1111\n",
            "Epoch 5: val_loss improved from 4.12064 to 3.94872, saving model to checkpoint/\n"
          ]
        },
        {
          "name": "stderr",
          "output_type": "stream",
          "text": [
            "WARNING:absl:Found untraced functions such as _jit_compiled_convolution_op, _jit_compiled_convolution_op, _jit_compiled_convolution_op, _jit_compiled_convolution_op, _jit_compiled_convolution_op while saving (showing 5 of 5). These functions will not be directly callable after loading.\n"
          ]
        },
        {
          "name": "stdout",
          "output_type": "stream",
          "text": [
            "\b\b\b\b\b\b\b\b\b\b\b\b\b\b\b\b\b\b\b\b\b\b\b\b\b\b\b\b\b\b\b\b\b\b\b\b\b\b\b\b\b\b\b\b\b\b\b\b\b\b\b\b\b\b\b\b\b\b\b\b\b\b\b\b\b\b\b\b\b\b\b\b\b\b\b\b\b\b\b\b\r",
            "1/1 [==============================] - 4s 4s/step - loss: 7.8735 - accuracy: 0.1111 - val_loss: 3.9487 - val_accuracy: 0.0667 - lr: 0.0010\n",
            "Epoch 6/30\n",
            "1/1 [==============================] - ETA: 0s - loss: 7.5319 - accuracy: 0.0952\n",
            "Epoch 6: val_loss improved from 3.94872 to 3.81697, saving model to checkpoint/\n"
          ]
        },
        {
          "name": "stderr",
          "output_type": "stream",
          "text": [
            "WARNING:absl:Found untraced functions such as _jit_compiled_convolution_op, _jit_compiled_convolution_op, _jit_compiled_convolution_op, _jit_compiled_convolution_op, _jit_compiled_convolution_op while saving (showing 5 of 5). These functions will not be directly callable after loading.\n"
          ]
        },
        {
          "name": "stdout",
          "output_type": "stream",
          "text": [
            "\b\b\b\b\b\b\b\b\b\b\b\b\b\b\b\b\b\b\b\b\b\b\b\b\b\b\b\b\b\b\b\b\b\b\b\b\b\b\b\b\b\b\b\b\b\b\b\b\b\b\b\b\b\b\b\b\b\b\b\b\b\b\b\b\b\b\b\b\b\b\b\b\b\b\b\b\b\b\b\b\r",
            "1/1 [==============================] - 4s 4s/step - loss: 7.5319 - accuracy: 0.0952 - val_loss: 3.8170 - val_accuracy: 0.0667 - lr: 0.0010\n",
            "Epoch 7/30\n",
            "1/1 [==============================] - ETA: 0s - loss: 7.5055 - accuracy: 0.1270\n",
            "Epoch 7: val_loss improved from 3.81697 to 3.58073, saving model to checkpoint/\n"
          ]
        },
        {
          "name": "stderr",
          "output_type": "stream",
          "text": [
            "WARNING:absl:Found untraced functions such as _jit_compiled_convolution_op, _jit_compiled_convolution_op, _jit_compiled_convolution_op, _jit_compiled_convolution_op, _jit_compiled_convolution_op while saving (showing 5 of 5). These functions will not be directly callable after loading.\n"
          ]
        },
        {
          "name": "stdout",
          "output_type": "stream",
          "text": [
            "\b\b\b\b\b\b\b\b\b\b\b\b\b\b\b\b\b\b\b\b\b\b\b\b\b\b\b\b\b\b\b\b\b\b\b\b\b\b\b\b\b\b\b\b\b\b\b\b\b\b\b\b\b\b\b\b\b\b\b\b\b\b\b\b\b\b\b\b\b\b\b\b\b\b\b\b\b\b\b\b\r",
            "1/1 [==============================] - 4s 4s/step - loss: 7.5055 - accuracy: 0.1270 - val_loss: 3.5807 - val_accuracy: 0.0667 - lr: 0.0010\n",
            "Epoch 8/30\n",
            "1/1 [==============================] - ETA: 0s - loss: 6.5611 - accuracy: 0.1429\n",
            "Epoch 8: val_loss improved from 3.58073 to 3.32698, saving model to checkpoint/\n"
          ]
        },
        {
          "name": "stderr",
          "output_type": "stream",
          "text": [
            "WARNING:absl:Found untraced functions such as _jit_compiled_convolution_op, _jit_compiled_convolution_op, _jit_compiled_convolution_op, _jit_compiled_convolution_op, _jit_compiled_convolution_op while saving (showing 5 of 5). These functions will not be directly callable after loading.\n"
          ]
        },
        {
          "name": "stdout",
          "output_type": "stream",
          "text": [
            "\b\b\b\b\b\b\b\b\b\b\b\b\b\b\b\b\b\b\b\b\b\b\b\b\b\b\b\b\b\b\b\b\b\b\b\b\b\b\b\b\b\b\b\b\b\b\b\b\b\b\b\b\b\b\b\b\b\b\b\b\b\b\b\b\b\b\b\b\b\b\b\b\b\b\b\b\b\b\b\b\r",
            "1/1 [==============================] - 4s 4s/step - loss: 6.5611 - accuracy: 0.1429 - val_loss: 3.3270 - val_accuracy: 0.0667 - lr: 0.0010\n",
            "Epoch 9/30\n",
            "1/1 [==============================] - ETA: 0s - loss: 6.0790 - accuracy: 0.1429\n",
            "Epoch 9: val_loss improved from 3.32698 to 3.14771, saving model to checkpoint/\n"
          ]
        },
        {
          "name": "stderr",
          "output_type": "stream",
          "text": [
            "WARNING:absl:Found untraced functions such as _jit_compiled_convolution_op, _jit_compiled_convolution_op, _jit_compiled_convolution_op, _jit_compiled_convolution_op, _jit_compiled_convolution_op while saving (showing 5 of 5). These functions will not be directly callable after loading.\n"
          ]
        },
        {
          "name": "stdout",
          "output_type": "stream",
          "text": [
            "\b\b\b\b\b\b\b\b\b\b\b\b\b\b\b\b\b\b\b\b\b\b\b\b\b\b\b\b\b\b\b\b\b\b\b\b\b\b\b\b\b\b\b\b\b\b\b\b\b\b\b\b\b\b\b\b\b\b\b\b\b\b\b\b\b\b\b\b\b\b\b\b\b\b\b\b\b\b\b\b\r",
            "1/1 [==============================] - 4s 4s/step - loss: 6.0790 - accuracy: 0.1429 - val_loss: 3.1477 - val_accuracy: 0.0667 - lr: 0.0010\n",
            "Epoch 10/30\n",
            "1/1 [==============================] - ETA: 0s - loss: 5.6197 - accuracy: 0.1111\n",
            "Epoch 10: val_loss improved from 3.14771 to 3.06231, saving model to checkpoint/\n"
          ]
        },
        {
          "name": "stderr",
          "output_type": "stream",
          "text": [
            "WARNING:absl:Found untraced functions such as _jit_compiled_convolution_op, _jit_compiled_convolution_op, _jit_compiled_convolution_op, _jit_compiled_convolution_op, _jit_compiled_convolution_op while saving (showing 5 of 5). These functions will not be directly callable after loading.\n"
          ]
        },
        {
          "name": "stdout",
          "output_type": "stream",
          "text": [
            "\b\b\b\b\b\b\b\b\b\b\b\b\b\b\b\b\b\b\b\b\b\b\b\b\b\b\b\b\b\b\b\b\b\b\b\b\b\b\b\b\b\b\b\b\b\b\b\b\b\b\b\b\b\b\b\b\b\b\b\b\b\b\b\b\b\b\b\b\b\b\b\b\b\b\b\b\b\b\b\b\r",
            "1/1 [==============================] - 4s 4s/step - loss: 5.6197 - accuracy: 0.1111 - val_loss: 3.0623 - val_accuracy: 0.0667 - lr: 0.0010\n",
            "Epoch 11/30\n",
            "1/1 [==============================] - ETA: 0s - loss: 6.2672 - accuracy: 0.0952\n",
            "Epoch 11: val_loss improved from 3.06231 to 3.02556, saving model to checkpoint/\n"
          ]
        },
        {
          "name": "stderr",
          "output_type": "stream",
          "text": [
            "WARNING:absl:Found untraced functions such as _jit_compiled_convolution_op, _jit_compiled_convolution_op, _jit_compiled_convolution_op, _jit_compiled_convolution_op, _jit_compiled_convolution_op while saving (showing 5 of 5). These functions will not be directly callable after loading.\n"
          ]
        },
        {
          "name": "stdout",
          "output_type": "stream",
          "text": [
            "\b\b\b\b\b\b\b\b\b\b\b\b\b\b\b\b\b\b\b\b\b\b\b\b\b\b\b\b\b\b\b\b\b\b\b\b\b\b\b\b\b\b\b\b\b\b\b\b\b\b\b\b\b\b\b\b\b\b\b\b\b\b\b\b\b\b\b\b\b\b\b\b\b\b\b\b\b\b\b\b\r",
            "1/1 [==============================] - 4s 4s/step - loss: 6.2672 - accuracy: 0.0952 - val_loss: 3.0256 - val_accuracy: 0.0667 - lr: 0.0010\n",
            "Epoch 12/30\n",
            "1/1 [==============================] - ETA: 0s - loss: 4.8736 - accuracy: 0.1587\n",
            "Epoch 12: val_loss improved from 3.02556 to 2.98927, saving model to checkpoint/\n"
          ]
        },
        {
          "name": "stderr",
          "output_type": "stream",
          "text": [
            "WARNING:absl:Found untraced functions such as _jit_compiled_convolution_op, _jit_compiled_convolution_op, _jit_compiled_convolution_op, _jit_compiled_convolution_op, _jit_compiled_convolution_op while saving (showing 5 of 5). These functions will not be directly callable after loading.\n"
          ]
        },
        {
          "name": "stdout",
          "output_type": "stream",
          "text": [
            "\b\b\b\b\b\b\b\b\b\b\b\b\b\b\b\b\b\b\b\b\b\b\b\b\b\b\b\b\b\b\b\b\b\b\b\b\b\b\b\b\b\b\b\b\b\b\b\b\b\b\b\b\b\b\b\b\b\b\b\b\b\b\b\b\b\b\b\b\b\b\b\b\b\b\b\b\b\b\b\b\r",
            "1/1 [==============================] - 4s 4s/step - loss: 4.8736 - accuracy: 0.1587 - val_loss: 2.9893 - val_accuracy: 0.0667 - lr: 0.0010\n",
            "Epoch 13/30\n",
            "1/1 [==============================] - ETA: 0s - loss: 4.7175 - accuracy: 0.1111\n",
            "Epoch 13: val_loss improved from 2.98927 to 2.98176, saving model to checkpoint/\n"
          ]
        },
        {
          "name": "stderr",
          "output_type": "stream",
          "text": [
            "WARNING:absl:Found untraced functions such as _jit_compiled_convolution_op, _jit_compiled_convolution_op, _jit_compiled_convolution_op, _jit_compiled_convolution_op, _jit_compiled_convolution_op while saving (showing 5 of 5). These functions will not be directly callable after loading.\n"
          ]
        },
        {
          "name": "stdout",
          "output_type": "stream",
          "text": [
            "\b\b\b\b\b\b\b\b\b\b\b\b\b\b\b\b\b\b\b\b\b\b\b\b\b\b\b\b\b\b\b\b\b\b\b\b\b\b\b\b\b\b\b\b\b\b\b\b\b\b\b\b\b\b\b\b\b\b\b\b\b\b\b\b\b\b\b\b\b\b\b\b\b\b\b\b\b\b\b\b\r",
            "1/1 [==============================] - 4s 4s/step - loss: 4.7175 - accuracy: 0.1111 - val_loss: 2.9818 - val_accuracy: 0.0667 - lr: 2.0000e-04\n",
            "Epoch 14/30\n",
            "1/1 [==============================] - ETA: 0s - loss: 4.1529 - accuracy: 0.1746\n",
            "Epoch 14: val_loss improved from 2.98176 to 2.97337, saving model to checkpoint/\n"
          ]
        },
        {
          "name": "stderr",
          "output_type": "stream",
          "text": [
            "WARNING:absl:Found untraced functions such as _jit_compiled_convolution_op, _jit_compiled_convolution_op, _jit_compiled_convolution_op, _jit_compiled_convolution_op, _jit_compiled_convolution_op while saving (showing 5 of 5). These functions will not be directly callable after loading.\n"
          ]
        },
        {
          "name": "stdout",
          "output_type": "stream",
          "text": [
            "\b\b\b\b\b\b\b\b\b\b\b\b\b\b\b\b\b\b\b\b\b\b\b\b\b\b\b\b\b\b\b\b\b\b\b\b\b\b\b\b\b\b\b\b\b\b\b\b\b\b\b\b\b\b\b\b\b\b\b\b\b\b\b\b\b\b\b\b\b\b\b\b\b\b\b\b\b\b\b\b\r",
            "1/1 [==============================] - 4s 4s/step - loss: 4.1529 - accuracy: 0.1746 - val_loss: 2.9734 - val_accuracy: 0.0667 - lr: 2.0000e-04\n",
            "Epoch 15/30\n",
            "1/1 [==============================] - ETA: 0s - loss: 4.2781 - accuracy: 0.1270\n",
            "Epoch 15: val_loss improved from 2.97337 to 2.96451, saving model to checkpoint/\n"
          ]
        },
        {
          "name": "stderr",
          "output_type": "stream",
          "text": [
            "WARNING:absl:Found untraced functions such as _jit_compiled_convolution_op, _jit_compiled_convolution_op, _jit_compiled_convolution_op, _jit_compiled_convolution_op, _jit_compiled_convolution_op while saving (showing 5 of 5). These functions will not be directly callable after loading.\n"
          ]
        },
        {
          "name": "stdout",
          "output_type": "stream",
          "text": [
            "\b\b\b\b\b\b\b\b\b\b\b\b\b\b\b\b\b\b\b\b\b\b\b\b\b\b\b\b\b\b\b\b\b\b\b\b\b\b\b\b\b\b\b\b\b\b\b\b\b\b\b\b\b\b\b\b\b\b\b\b\b\b\b\b\b\b\b\b\b\b\b\b\b\b\b\b\b\b\b\b\r",
            "1/1 [==============================] - 4s 4s/step - loss: 4.2781 - accuracy: 0.1270 - val_loss: 2.9645 - val_accuracy: 0.0667 - lr: 2.0000e-04\n",
            "Epoch 16/30\n",
            "1/1 [==============================] - ETA: 0s - loss: 4.2090 - accuracy: 0.1270\n",
            "Epoch 16: val_loss improved from 2.96451 to 2.95546, saving model to checkpoint/\n"
          ]
        },
        {
          "name": "stderr",
          "output_type": "stream",
          "text": [
            "WARNING:absl:Found untraced functions such as _jit_compiled_convolution_op, _jit_compiled_convolution_op, _jit_compiled_convolution_op, _jit_compiled_convolution_op, _jit_compiled_convolution_op while saving (showing 5 of 5). These functions will not be directly callable after loading.\n"
          ]
        },
        {
          "name": "stdout",
          "output_type": "stream",
          "text": [
            "\b\b\b\b\b\b\b\b\b\b\b\b\b\b\b\b\b\b\b\b\b\b\b\b\b\b\b\b\b\b\b\b\b\b\b\b\b\b\b\b\b\b\b\b\b\b\b\b\b\b\b\b\b\b\b\b\b\b\b\b\b\b\b\b\b\b\b\b\b\b\b\b\b\b\b\b\b\b\b\b\r",
            "1/1 [==============================] - 4s 4s/step - loss: 4.2090 - accuracy: 0.1270 - val_loss: 2.9555 - val_accuracy: 0.0667 - lr: 2.0000e-04\n",
            "Epoch 17/30\n",
            "1/1 [==============================] - ETA: 0s - loss: 3.9929 - accuracy: 0.1746\n",
            "Epoch 17: val_loss improved from 2.95546 to 2.94459, saving model to checkpoint/\n"
          ]
        },
        {
          "name": "stderr",
          "output_type": "stream",
          "text": [
            "WARNING:absl:Found untraced functions such as _jit_compiled_convolution_op, _jit_compiled_convolution_op, _jit_compiled_convolution_op, _jit_compiled_convolution_op, _jit_compiled_convolution_op while saving (showing 5 of 5). These functions will not be directly callable after loading.\n"
          ]
        },
        {
          "name": "stdout",
          "output_type": "stream",
          "text": [
            "\b\b\b\b\b\b\b\b\b\b\b\b\b\b\b\b\b\b\b\b\b\b\b\b\b\b\b\b\b\b\b\b\b\b\b\b\b\b\b\b\b\b\b\b\b\b\b\b\b\b\b\b\b\b\b\b\b\b\b\b\b\b\b\b\b\b\b\b\b\b\b\b\b\b\b\b\b\b\b\b\r",
            "1/1 [==============================] - 4s 4s/step - loss: 3.9929 - accuracy: 0.1746 - val_loss: 2.9446 - val_accuracy: 0.0667 - lr: 2.0000e-04\n",
            "Epoch 18/30\n",
            "1/1 [==============================] - ETA: 0s - loss: 3.9855 - accuracy: 0.1587\n",
            "Epoch 18: val_loss improved from 2.94459 to 2.93305, saving model to checkpoint/\n"
          ]
        },
        {
          "name": "stderr",
          "output_type": "stream",
          "text": [
            "WARNING:absl:Found untraced functions such as _jit_compiled_convolution_op, _jit_compiled_convolution_op, _jit_compiled_convolution_op, _jit_compiled_convolution_op, _jit_compiled_convolution_op while saving (showing 5 of 5). These functions will not be directly callable after loading.\n"
          ]
        },
        {
          "name": "stdout",
          "output_type": "stream",
          "text": [
            "\b\b\b\b\b\b\b\b\b\b\b\b\b\b\b\b\b\b\b\b\b\b\b\b\b\b\b\b\b\b\b\b\b\b\b\b\b\b\b\b\b\b\b\b\b\b\b\b\b\b\b\b\b\b\b\b\b\b\b\b\b\b\b\b\b\b\b\b\b\b\b\b\b\b\b\b\b\b\b\b\r",
            "1/1 [==============================] - 4s 4s/step - loss: 3.9855 - accuracy: 0.1587 - val_loss: 2.9331 - val_accuracy: 0.0667 - lr: 2.0000e-04\n",
            "Epoch 19/30\n",
            "1/1 [==============================] - ETA: 0s - loss: 3.7112 - accuracy: 0.1587\n",
            "Epoch 19: val_loss improved from 2.93305 to 2.92004, saving model to checkpoint/\n"
          ]
        },
        {
          "name": "stderr",
          "output_type": "stream",
          "text": [
            "WARNING:absl:Found untraced functions such as _jit_compiled_convolution_op, _jit_compiled_convolution_op, _jit_compiled_convolution_op, _jit_compiled_convolution_op, _jit_compiled_convolution_op while saving (showing 5 of 5). These functions will not be directly callable after loading.\n"
          ]
        },
        {
          "name": "stdout",
          "output_type": "stream",
          "text": [
            "\b\b\b\b\b\b\b\b\b\b\b\b\b\b\b\b\b\b\b\b\b\b\b\b\b\b\b\b\b\b\b\b\b\b\b\b\b\b\b\b\b\b\b\b\b\b\b\b\b\b\b\b\b\b\b\b\b\b\b\b\b\b\b\b\b\b\b\b\b\b\b\b\b\b\b\b\b\b\b\b\r",
            "1/1 [==============================] - 4s 4s/step - loss: 3.7112 - accuracy: 0.1587 - val_loss: 2.9200 - val_accuracy: 0.0667 - lr: 2.0000e-04\n",
            "Epoch 20/30\n",
            "1/1 [==============================] - ETA: 0s - loss: 4.0170 - accuracy: 0.1270\n",
            "Epoch 20: val_loss improved from 2.92004 to 2.90750, saving model to checkpoint/\n"
          ]
        },
        {
          "name": "stderr",
          "output_type": "stream",
          "text": [
            "WARNING:absl:Found untraced functions such as _jit_compiled_convolution_op, _jit_compiled_convolution_op, _jit_compiled_convolution_op, _jit_compiled_convolution_op, _jit_compiled_convolution_op while saving (showing 5 of 5). These functions will not be directly callable after loading.\n"
          ]
        },
        {
          "name": "stdout",
          "output_type": "stream",
          "text": [
            "\b\b\b\b\b\b\b\b\b\b\b\b\b\b\b\b\b\b\b\b\b\b\b\b\b\b\b\b\b\b\b\b\b\b\b\b\b\b\b\b\b\b\b\b\b\b\b\b\b\b\b\b\b\b\b\b\b\b\b\b\b\b\b\b\b\b\b\b\b\b\b\b\b\b\b\b\b\b\b\b\r",
            "1/1 [==============================] - 4s 4s/step - loss: 4.0170 - accuracy: 0.1270 - val_loss: 2.9075 - val_accuracy: 0.0667 - lr: 2.0000e-04\n",
            "Epoch 21/30\n",
            "1/1 [==============================] - ETA: 0s - loss: 3.6105 - accuracy: 0.1587\n",
            "Epoch 21: val_loss improved from 2.90750 to 2.90509, saving model to checkpoint/\n"
          ]
        },
        {
          "name": "stderr",
          "output_type": "stream",
          "text": [
            "WARNING:absl:Found untraced functions such as _jit_compiled_convolution_op, _jit_compiled_convolution_op, _jit_compiled_convolution_op, _jit_compiled_convolution_op, _jit_compiled_convolution_op while saving (showing 5 of 5). These functions will not be directly callable after loading.\n"
          ]
        },
        {
          "name": "stdout",
          "output_type": "stream",
          "text": [
            "\b\b\b\b\b\b\b\b\b\b\b\b\b\b\b\b\b\b\b\b\b\b\b\b\b\b\b\b\b\b\b\b\b\b\b\b\b\b\b\b\b\b\b\b\b\b\b\b\b\b\b\b\b\b\b\b\b\b\b\b\b\b\b\b\b\b\b\b\b\b\b\b\b\b\b\b\b\b\b\b\r",
            "1/1 [==============================] - 4s 4s/step - loss: 3.6105 - accuracy: 0.1587 - val_loss: 2.9051 - val_accuracy: 0.0667 - lr: 4.0000e-05\n",
            "Epoch 22/30\n",
            "1/1 [==============================] - ETA: 0s - loss: 3.6345 - accuracy: 0.1429\n",
            "Epoch 22: val_loss improved from 2.90509 to 2.90273, saving model to checkpoint/\n"
          ]
        },
        {
          "name": "stderr",
          "output_type": "stream",
          "text": [
            "WARNING:absl:Found untraced functions such as _jit_compiled_convolution_op, _jit_compiled_convolution_op, _jit_compiled_convolution_op, _jit_compiled_convolution_op, _jit_compiled_convolution_op while saving (showing 5 of 5). These functions will not be directly callable after loading.\n"
          ]
        },
        {
          "name": "stdout",
          "output_type": "stream",
          "text": [
            "\b\b\b\b\b\b\b\b\b\b\b\b\b\b\b\b\b\b\b\b\b\b\b\b\b\b\b\b\b\b\b\b\b\b\b\b\b\b\b\b\b\b\b\b\b\b\b\b\b\b\b\b\b\b\b\b\b\b\b\b\b\b\b\b\b\b\b\b\b\b\b\b\b\b\b\b\b\b\b\b\r",
            "1/1 [==============================] - 4s 4s/step - loss: 3.6345 - accuracy: 0.1429 - val_loss: 2.9027 - val_accuracy: 0.0667 - lr: 4.0000e-05\n",
            "Epoch 23/30\n",
            "1/1 [==============================] - ETA: 0s - loss: 3.6700 - accuracy: 0.1587\n",
            "Epoch 23: val_loss improved from 2.90273 to 2.90066, saving model to checkpoint/\n"
          ]
        },
        {
          "name": "stderr",
          "output_type": "stream",
          "text": [
            "WARNING:absl:Found untraced functions such as _jit_compiled_convolution_op, _jit_compiled_convolution_op, _jit_compiled_convolution_op, _jit_compiled_convolution_op, _jit_compiled_convolution_op while saving (showing 5 of 5). These functions will not be directly callable after loading.\n"
          ]
        },
        {
          "name": "stdout",
          "output_type": "stream",
          "text": [
            "\b\b\b\b\b\b\b\b\b\b\b\b\b\b\b\b\b\b\b\b\b\b\b\b\b\b\b\b\b\b\b\b\b\b\b\b\b\b\b\b\b\b\b\b\b\b\b\b\b\b\b\b\b\b\b\b\b\b\b\b\b\b\b\b\b\b\b\b\b\b\b\b\b\b\b\b\b\b\b\b\r",
            "1/1 [==============================] - 4s 4s/step - loss: 3.6700 - accuracy: 0.1587 - val_loss: 2.9007 - val_accuracy: 0.0667 - lr: 4.0000e-05\n",
            "Epoch 24/30\n",
            "1/1 [==============================] - ETA: 0s - loss: 3.7297 - accuracy: 0.1429\n",
            "Epoch 24: val_loss improved from 2.90066 to 2.89862, saving model to checkpoint/\n"
          ]
        },
        {
          "name": "stderr",
          "output_type": "stream",
          "text": [
            "WARNING:absl:Found untraced functions such as _jit_compiled_convolution_op, _jit_compiled_convolution_op, _jit_compiled_convolution_op, _jit_compiled_convolution_op, _jit_compiled_convolution_op while saving (showing 5 of 5). These functions will not be directly callable after loading.\n"
          ]
        },
        {
          "name": "stdout",
          "output_type": "stream",
          "text": [
            "\b\b\b\b\b\b\b\b\b\b\b\b\b\b\b\b\b\b\b\b\b\b\b\b\b\b\b\b\b\b\b\b\b\b\b\b\b\b\b\b\b\b\b\b\b\b\b\b\b\b\b\b\b\b\b\b\b\b\b\b\b\b\b\b\b\b\b\b\b\b\b\b\b\b\b\b\b\b\b\b\r",
            "1/1 [==============================] - 4s 4s/step - loss: 3.7297 - accuracy: 0.1429 - val_loss: 2.8986 - val_accuracy: 0.0667 - lr: 4.0000e-05\n",
            "Epoch 25/30\n",
            "1/1 [==============================] - ETA: 0s - loss: 3.9647 - accuracy: 0.1429\n",
            "Epoch 25: val_loss improved from 2.89862 to 2.89648, saving model to checkpoint/\n"
          ]
        },
        {
          "name": "stderr",
          "output_type": "stream",
          "text": [
            "WARNING:absl:Found untraced functions such as _jit_compiled_convolution_op, _jit_compiled_convolution_op, _jit_compiled_convolution_op, _jit_compiled_convolution_op, _jit_compiled_convolution_op while saving (showing 5 of 5). These functions will not be directly callable after loading.\n"
          ]
        },
        {
          "name": "stdout",
          "output_type": "stream",
          "text": [
            "\b\b\b\b\b\b\b\b\b\b\b\b\b\b\b\b\b\b\b\b\b\b\b\b\b\b\b\b\b\b\b\b\b\b\b\b\b\b\b\b\b\b\b\b\b\b\b\b\b\b\b\b\b\b\b\b\b\b\b\b\b\b\b\b\b\b\b\b\b\b\b\b\b\b\b\b\b\b\b\b\r",
            "1/1 [==============================] - 4s 4s/step - loss: 3.9647 - accuracy: 0.1429 - val_loss: 2.8965 - val_accuracy: 0.0667 - lr: 4.0000e-05\n",
            "Epoch 26/30\n",
            "1/1 [==============================] - ETA: 0s - loss: 3.4652 - accuracy: 0.1905\n",
            "Epoch 26: val_loss improved from 2.89648 to 2.89441, saving model to checkpoint/\n"
          ]
        },
        {
          "name": "stderr",
          "output_type": "stream",
          "text": [
            "WARNING:absl:Found untraced functions such as _jit_compiled_convolution_op, _jit_compiled_convolution_op, _jit_compiled_convolution_op, _jit_compiled_convolution_op, _jit_compiled_convolution_op while saving (showing 5 of 5). These functions will not be directly callable after loading.\n"
          ]
        },
        {
          "name": "stdout",
          "output_type": "stream",
          "text": [
            "\b\b\b\b\b\b\b\b\b\b\b\b\b\b\b\b\b\b\b\b\b\b\b\b\b\b\b\b\b\b\b\b\b\b\b\b\b\b\b\b\b\b\b\b\b\b\b\b\b\b\b\b\b\b\b\b\b\b\b\b\b\b\b\b\b\b\b\b\b\b\b\b\b\b\b\b\b\b\b\b\r",
            "1/1 [==============================] - 4s 4s/step - loss: 3.4652 - accuracy: 0.1905 - val_loss: 2.8944 - val_accuracy: 0.0667 - lr: 4.0000e-05\n",
            "Epoch 27/30\n",
            "1/1 [==============================] - ETA: 0s - loss: 3.2650 - accuracy: 0.2222\n",
            "Epoch 27: val_loss improved from 2.89441 to 2.89248, saving model to checkpoint/\n"
          ]
        },
        {
          "name": "stderr",
          "output_type": "stream",
          "text": [
            "WARNING:absl:Found untraced functions such as _jit_compiled_convolution_op, _jit_compiled_convolution_op, _jit_compiled_convolution_op, _jit_compiled_convolution_op, _jit_compiled_convolution_op while saving (showing 5 of 5). These functions will not be directly callable after loading.\n"
          ]
        },
        {
          "name": "stdout",
          "output_type": "stream",
          "text": [
            "\b\b\b\b\b\b\b\b\b\b\b\b\b\b\b\b\b\b\b\b\b\b\b\b\b\b\b\b\b\b\b\b\b\b\b\b\b\b\b\b\b\b\b\b\b\b\b\b\b\b\b\b\b\b\b\b\b\b\b\b\b\b\b\b\b\b\b\b\b\b\b\b\b\b\b\b\b\b\b\b\r",
            "1/1 [==============================] - 4s 4s/step - loss: 3.2650 - accuracy: 0.2222 - val_loss: 2.8925 - val_accuracy: 0.0667 - lr: 4.0000e-05\n",
            "Epoch 28/30\n",
            "1/1 [==============================] - ETA: 0s - loss: 3.4130 - accuracy: 0.2063\n",
            "Epoch 28: val_loss improved from 2.89248 to 2.89052, saving model to checkpoint/\n"
          ]
        },
        {
          "name": "stderr",
          "output_type": "stream",
          "text": [
            "WARNING:absl:Found untraced functions such as _jit_compiled_convolution_op, _jit_compiled_convolution_op, _jit_compiled_convolution_op, _jit_compiled_convolution_op, _jit_compiled_convolution_op while saving (showing 5 of 5). These functions will not be directly callable after loading.\n"
          ]
        },
        {
          "name": "stdout",
          "output_type": "stream",
          "text": [
            "\b\b\b\b\b\b\b\b\b\b\b\b\b\b\b\b\b\b\b\b\b\b\b\b\b\b\b\b\b\b\b\b\b\b\b\b\b\b\b\b\b\b\b\b\b\b\b\b\b\b\b\b\b\b\b\b\b\b\b\b\b\b\b\b\b\b\b\b\b\b\b\b\b\b\b\b\b\b\b\b\r",
            "1/1 [==============================] - 4s 4s/step - loss: 3.4130 - accuracy: 0.2063 - val_loss: 2.8905 - val_accuracy: 0.0667 - lr: 4.0000e-05\n",
            "Epoch 29/30\n",
            "1/1 [==============================] - ETA: 0s - loss: 3.5674 - accuracy: 0.1429\n",
            "Epoch 29: val_loss did not improve from 2.89052\n",
            "1/1 [==============================] - 2s 2s/step - loss: 3.5674 - accuracy: 0.1429 - val_loss: 2.8911 - val_accuracy: 0.0667 - lr: 1.0000e-05\n",
            "Epoch 30/30\n",
            "1/1 [==============================] - ETA: 0s - loss: 3.4814 - accuracy: 0.1746\n",
            "Epoch 30: val_loss did not improve from 2.89052\n",
            "1/1 [==============================] - 2s 2s/step - loss: 3.4814 - accuracy: 0.1746 - val_loss: 2.8917 - val_accuracy: 0.0667 - lr: 1.0000e-05\n"
          ]
        }
      ],
      "source": [
        "\n",
        "# batch size 64\n",
        "tf.random.set_seed(42)\n",
        "# Create the model\n",
        "model_1 = Sequential([\n",
        "  tf.keras.layers.Input(shape=(124, 124, 3)),\n",
        "  tf.keras.layers.Conv2D(512, (3,3), activation=\"softplus\", padding=\"same\"),\n",
        "  BatchNormalization(),\n",
        "  tf.keras.layers.Conv2D(256, (3,3), activation=\"softplus\", padding=\"same\"),\n",
        "  BatchNormalization(),\n",
        "  tf.keras.layers.MaxPool2D(2),\n",
        "  tf.keras.layers.Dropout(0.5),\n",
        "  tf.keras.layers.Conv2D(128, (3,3), activation=\"softplus\", padding=\"same\"),\n",
        "  BatchNormalization(),\n",
        "  tf.keras.layers.Conv2D(64, (3,3), activation=\"softplus\", padding=\"same\"),\n",
        "  BatchNormalization(),\n",
        "  tf.keras.layers.MaxPool2D(2),\n",
        "  tf.keras.layers.Dropout(0.5),\n",
        "  tf.keras.layers.Conv2D(32, (3,3), activation=\"softplus\", padding=\"same\"),\n",
        "  tf.keras.layers.MaxPool2D(2),\n",
        "  tf.keras.layers.Dropout(0.5),\n",
        "  tf.keras.layers.Flatten(),\n",
        "  tf.keras.layers.Dense(15, activation=\"softmax\")\n",
        "])\n",
        "\n",
        "# Compile the model\n",
        "model_1.compile(loss=\"categorical_crossentropy\",\n",
        "                optimizer=tf.keras.optimizers.Adam(),\n",
        "                metrics=[\"accuracy\"])\n",
        "\n",
        "checkpoint_callback = tf.keras.callbacks.ModelCheckpoint(filepath=\"checkpoint/\",\n",
        "                                                         save_weights_only=False,\n",
        "                                                         save_best_only=True,\n",
        "                                                         save_freq=\"epoch\",\n",
        "                                                         verbose=1)\n",
        "\n",
        "reduce_lr = ReduceLROnPlateau(monitor='val_accuracy', factor=0.2,\n",
        "                              patience=8, min_lr=0.00001)\n",
        "\n",
        "# Fit the model\n",
        "history = model_1.fit(train_data, epochs=30, callbacks=[reduce_lr, checkpoint_callback], validation_data=test_data)"
      ]
    },
    {
      "cell_type": "code",
      "execution_count": null,
      "metadata": {
        "colab": {
          "base_uri": "https://localhost:8080/",
          "height": 541
        },
        "id": "9o5TiPH2Xrj3",
        "outputId": "2ea31b7b-4011-4a92-e69f-64c2c61141ad"
      },
      "outputs": [
        {
          "data": {
            "image/png": "[encoded data removed]",
            "text/plain": [
              "<Figure size 432x288 with 1 Axes>"
            ]
          },
          "metadata": {
            "needs_background": "light"
          },
          "output_type": "display_data"
        },
        {
          "data": {
            "image/png": "[encoded data removed]",
            "text/plain": [
              "<Figure size 432x288 with 1 Axes>"
            ]
          },
          "metadata": {
            "needs_background": "light"
          },
          "output_type": "display_data"
        }
      ],
      "source": [
        "import matplotlib.pyplot as plt\n",
        "\n",
        "def plot_graphs(history, string):\n",
        "  plt.plot(history.history[string])\n",
        "  plt.plot(history.history['val_'+string])\n",
        "  plt.xlabel('Epochs')\n",
        "  plt.ylabel(string)\n",
        "  plt.legend([string, 'val_'+string])\n",
        "  plt.show()\n",
        "\n",
        "plot_graphs(history, 'accuracy')\n",
        "plot_graphs(history, 'loss')"
      ]
    },
    {
      "cell_type": "code",
      "execution_count": null,
      "metadata": {
        "id": "RZ7DSBryXvWR"
      },
      "outputs": [],
      "source": [
        "model_1.save(\"model_softplus.h5\")"
      ]
    },
    {
      "cell_type": "code",
      "execution_count": null,
      "metadata": {
        "id": "66RNzSE0X1CH"
      },
      "outputs": [],
      "source": []
    },
    {
      "cell_type": "code",
      "execution_count": null,
      "metadata": {
        "colab": {
          "base_uri": "https://localhost:8080/"
        },
        "id": "5XH0c_BOYIbg",
        "outputId": "57c313cd-d6e3-4de9-e03a-38f510420663"
      },
      "outputs": [
        {
          "name": "stdout",
          "output_type": "stream",
          "text": [
            "Epoch 1/30\n",
            "1/1 [==============================] - ETA: 0s - loss: 3.6997 - accuracy: 0.0476\n",
            "Epoch 1: val_loss improved from inf to 2.79876, saving model to checkpoint/\n"
          ]
        },
        {
          "name": "stderr",
          "output_type": "stream",
          "text": [
            "WARNING:absl:Found untraced functions such as _jit_compiled_convolution_op, _jit_compiled_convolution_op, _jit_compiled_convolution_op, _jit_compiled_convolution_op, _jit_compiled_convolution_op while saving (showing 5 of 5). These functions will not be directly callable after loading.\n"
          ]
        },
        {
          "name": "stdout",
          "output_type": "stream",
          "text": [
            "\b\b\b\b\b\b\b\b\b\b\b\b\b\b\b\b\b\b\b\b\b\b\b\b\b\b\b\b\b\b\b\b\b\b\b\b\b\b\b\b\b\b\b\b\b\b\b\b\b\b\b\b\b\b\b\b\b\b\b\b\b\b\b\b\b\b\b\b\b\b\b\b\b\b\b\b\b\b\b\b\r",
            "1/1 [==============================] - 5s 5s/step - loss: 3.6997 - accuracy: 0.0476 - val_loss: 2.7988 - val_accuracy: 0.0667 - lr: 0.0010\n",
            "Epoch 2/30\n",
            "1/1 [==============================] - ETA: 0s - loss: 4.1310 - accuracy: 0.1429\n",
            "Epoch 2: val_loss did not improve from 2.79876\n",
            "1/1 [==============================] - 2s 2s/step - loss: 4.1310 - accuracy: 0.1429 - val_loss: 2.9031 - val_accuracy: 0.0667 - lr: 0.0010\n",
            "Epoch 3/30\n",
            "1/1 [==============================] - ETA: 0s - loss: 4.5910 - accuracy: 0.0635\n",
            "Epoch 3: val_loss did not improve from 2.79876\n",
            "1/1 [==============================] - 2s 2s/step - loss: 4.5910 - accuracy: 0.0635 - val_loss: 3.0349 - val_accuracy: 0.0667 - lr: 0.0010\n",
            "Epoch 4/30\n",
            "1/1 [==============================] - ETA: 0s - loss: 3.7023 - accuracy: 0.0635\n",
            "Epoch 4: val_loss did not improve from 2.79876\n",
            "1/1 [==============================] - 2s 2s/step - loss: 3.7023 - accuracy: 0.0635 - val_loss: 3.3081 - val_accuracy: 0.0667 - lr: 0.0010\n",
            "Epoch 5/30\n",
            "1/1 [==============================] - ETA: 0s - loss: 2.8690 - accuracy: 0.2222\n",
            "Epoch 5: val_loss did not improve from 2.79876\n",
            "1/1 [==============================] - 2s 2s/step - loss: 2.8690 - accuracy: 0.2222 - val_loss: 3.5728 - val_accuracy: 0.0667 - lr: 0.0010\n",
            "Epoch 6/30\n",
            "1/1 [==============================] - ETA: 0s - loss: 3.2330 - accuracy: 0.1587\n",
            "Epoch 6: val_loss did not improve from 2.79876\n",
            "1/1 [==============================] - 2s 2s/step - loss: 3.2330 - accuracy: 0.1587 - val_loss: 3.5821 - val_accuracy: 0.1333 - lr: 0.0010\n",
            "Epoch 7/30\n",
            "1/1 [==============================] - ETA: 0s - loss: 3.2830 - accuracy: 0.0952\n",
            "Epoch 7: val_loss did not improve from 2.79876\n",
            "1/1 [==============================] - 2s 2s/step - loss: 3.2830 - accuracy: 0.0952 - val_loss: 3.5257 - val_accuracy: 0.0667 - lr: 0.0010\n",
            "Epoch 8/30\n",
            "1/1 [==============================] - ETA: 0s - loss: 3.0871 - accuracy: 0.1111\n",
            "Epoch 8: val_loss did not improve from 2.79876\n",
            "1/1 [==============================] - 2s 2s/step - loss: 3.0871 - accuracy: 0.1111 - val_loss: 3.4858 - val_accuracy: 0.0667 - lr: 0.0010\n",
            "Epoch 9/30\n",
            "1/1 [==============================] - ETA: 0s - loss: 2.9901 - accuracy: 0.2222\n",
            "Epoch 9: val_loss did not improve from 2.79876\n",
            "1/1 [==============================] - 2s 2s/step - loss: 2.9901 - accuracy: 0.2222 - val_loss: 3.6349 - val_accuracy: 0.0667 - lr: 0.0010\n",
            "Epoch 10/30\n",
            "1/1 [==============================] - ETA: 0s - loss: 2.7656 - accuracy: 0.2222\n",
            "Epoch 10: val_loss did not improve from 2.79876\n",
            "1/1 [==============================] - 2s 2s/step - loss: 2.7656 - accuracy: 0.2222 - val_loss: 3.9431 - val_accuracy: 0.0667 - lr: 0.0010\n",
            "Epoch 11/30\n",
            "1/1 [==============================] - ETA: 0s - loss: 2.6645 - accuracy: 0.1905\n",
            "Epoch 11: val_loss did not improve from 2.79876\n",
            "1/1 [==============================] - 2s 2s/step - loss: 2.6645 - accuracy: 0.1905 - val_loss: 4.0958 - val_accuracy: 0.1333 - lr: 0.0010\n",
            "Epoch 12/30\n",
            "1/1 [==============================] - ETA: 0s - loss: 2.5119 - accuracy: 0.2381\n",
            "Epoch 12: val_loss did not improve from 2.79876\n",
            "1/1 [==============================] - 2s 2s/step - loss: 2.5119 - accuracy: 0.2381 - val_loss: 4.1977 - val_accuracy: 0.0667 - lr: 0.0010\n",
            "Epoch 13/30\n",
            "1/1 [==============================] - ETA: 0s - loss: 2.5232 - accuracy: 0.3492\n",
            "Epoch 13: val_loss did not improve from 2.79876\n",
            "1/1 [==============================] - 2s 2s/step - loss: 2.5232 - accuracy: 0.3492 - val_loss: 4.3005 - val_accuracy: 0.0667 - lr: 0.0010\n",
            "Epoch 14/30\n",
            "1/1 [==============================] - ETA: 0s - loss: 2.0967 - accuracy: 0.3175\n",
            "Epoch 14: val_loss did not improve from 2.79876\n",
            "1/1 [==============================] - 2s 2s/step - loss: 2.0967 - accuracy: 0.3175 - val_loss: 4.3684 - val_accuracy: 0.0667 - lr: 0.0010\n",
            "Epoch 15/30\n",
            "1/1 [==============================] - ETA: 0s - loss: 2.4567 - accuracy: 0.2857\n",
            "Epoch 15: val_loss did not improve from 2.79876\n",
            "1/1 [==============================] - 2s 2s/step - loss: 2.4567 - accuracy: 0.2857 - val_loss: 4.3870 - val_accuracy: 0.0667 - lr: 2.0000e-04\n",
            "Epoch 16/30\n",
            "1/1 [==============================] - ETA: 0s - loss: 2.1760 - accuracy: 0.2222\n",
            "Epoch 16: val_loss did not improve from 2.79876\n",
            "1/1 [==============================] - 2s 2s/step - loss: 2.1760 - accuracy: 0.2222 - val_loss: 4.4013 - val_accuracy: 0.0667 - lr: 2.0000e-04\n",
            "Epoch 17/30\n",
            "1/1 [==============================] - ETA: 0s - loss: 2.2944 - accuracy: 0.3492\n",
            "Epoch 17: val_loss did not improve from 2.79876\n",
            "1/1 [==============================] - 2s 2s/step - loss: 2.2944 - accuracy: 0.3492 - val_loss: 4.4134 - val_accuracy: 0.0667 - lr: 2.0000e-04\n",
            "Epoch 18/30\n",
            "1/1 [==============================] - ETA: 0s - loss: 2.3191 - accuracy: 0.3175\n",
            "Epoch 18: val_loss did not improve from 2.79876\n",
            "1/1 [==============================] - 2s 2s/step - loss: 2.3191 - accuracy: 0.3175 - val_loss: 4.4290 - val_accuracy: 0.0667 - lr: 2.0000e-04\n",
            "Epoch 19/30\n",
            "1/1 [==============================] - ETA: 0s - loss: 2.3394 - accuracy: 0.3175\n",
            "Epoch 19: val_loss did not improve from 2.79876\n",
            "1/1 [==============================] - 2s 2s/step - loss: 2.3394 - accuracy: 0.3175 - val_loss: 4.4389 - val_accuracy: 0.0667 - lr: 2.0000e-04\n",
            "Epoch 20/30\n",
            "1/1 [==============================] - ETA: 0s - loss: 2.0392 - accuracy: 0.3651\n",
            "Epoch 20: val_loss did not improve from 2.79876\n",
            "1/1 [==============================] - 2s 2s/step - loss: 2.0392 - accuracy: 0.3651 - val_loss: 4.4591 - val_accuracy: 0.0667 - lr: 2.0000e-04\n",
            "Epoch 21/30\n",
            "1/1 [==============================] - ETA: 0s - loss: 2.3373 - accuracy: 0.3016\n",
            "Epoch 21: val_loss did not improve from 2.79876\n",
            "1/1 [==============================] - 2s 2s/step - loss: 2.3373 - accuracy: 0.3016 - val_loss: 4.4751 - val_accuracy: 0.0667 - lr: 2.0000e-04\n",
            "Epoch 22/30\n",
            "1/1 [==============================] - ETA: 0s - loss: 2.1671 - accuracy: 0.2857\n",
            "Epoch 22: val_loss did not improve from 2.79876\n",
            "1/1 [==============================] - 2s 2s/step - loss: 2.1671 - accuracy: 0.2857 - val_loss: 4.4915 - val_accuracy: 0.0667 - lr: 2.0000e-04\n",
            "Epoch 23/30\n",
            "1/1 [==============================] - ETA: 0s - loss: 2.2297 - accuracy: 0.3333\n",
            "Epoch 23: val_loss did not improve from 2.79876\n",
            "1/1 [==============================] - 2s 2s/step - loss: 2.2297 - accuracy: 0.3333 - val_loss: 4.4902 - val_accuracy: 0.0667 - lr: 4.0000e-05\n",
            "Epoch 24/30\n",
            "1/1 [==============================] - ETA: 0s - loss: 2.0543 - accuracy: 0.3333\n",
            "Epoch 24: val_loss did not improve from 2.79876\n",
            "1/1 [==============================] - 2s 2s/step - loss: 2.0543 - accuracy: 0.3333 - val_loss: 4.4847 - val_accuracy: 0.0667 - lr: 4.0000e-05\n",
            "Epoch 25/30\n",
            "1/1 [==============================] - ETA: 0s - loss: 2.1930 - accuracy: 0.3175\n",
            "Epoch 25: val_loss did not improve from 2.79876\n",
            "1/1 [==============================] - 2s 2s/step - loss: 2.1930 - accuracy: 0.3175 - val_loss: 4.4780 - val_accuracy: 0.0667 - lr: 4.0000e-05\n",
            "Epoch 26/30\n",
            "1/1 [==============================] - ETA: 0s - loss: 2.1207 - accuracy: 0.3175\n",
            "Epoch 26: val_loss did not improve from 2.79876\n",
            "1/1 [==============================] - 2s 2s/step - loss: 2.1207 - accuracy: 0.3175 - val_loss: 4.4689 - val_accuracy: 0.0667 - lr: 4.0000e-05\n",
            "Epoch 27/30\n",
            "1/1 [==============================] - ETA: 0s - loss: 2.3216 - accuracy: 0.2857\n",
            "Epoch 27: val_loss did not improve from 2.79876\n",
            "1/1 [==============================] - 2s 2s/step - loss: 2.3216 - accuracy: 0.2857 - val_loss: 4.4537 - val_accuracy: 0.0667 - lr: 4.0000e-05\n",
            "Epoch 28/30\n",
            "1/1 [==============================] - ETA: 0s - loss: 1.7963 - accuracy: 0.4286\n",
            "Epoch 28: val_loss did not improve from 2.79876\n",
            "1/1 [==============================] - 2s 2s/step - loss: 1.7963 - accuracy: 0.4286 - val_loss: 4.4383 - val_accuracy: 0.0667 - lr: 4.0000e-05\n",
            "Epoch 29/30\n",
            "1/1 [==============================] - ETA: 0s - loss: 1.9678 - accuracy: 0.3333\n",
            "Epoch 29: val_loss did not improve from 2.79876\n",
            "1/1 [==============================] - 2s 2s/step - loss: 1.9678 - accuracy: 0.3333 - val_loss: 4.4251 - val_accuracy: 0.0667 - lr: 4.0000e-05\n",
            "Epoch 30/30\n",
            "1/1 [==============================] - ETA: 0s - loss: 2.1082 - accuracy: 0.2857\n",
            "Epoch 30: val_loss did not improve from 2.79876\n",
            "1/1 [==============================] - 2s 2s/step - loss: 2.1082 - accuracy: 0.2857 - val_loss: 4.4126 - val_accuracy: 0.0667 - lr: 4.0000e-05\n"
          ]
        }
      ],
      "source": [
        "\n",
        "# batch size 64\n",
        "tf.random.set_seed(42)\n",
        "# Create the model\n",
        "model_1 = Sequential([\n",
        "  tf.keras.layers.Input(shape=(124, 124, 3)),\n",
        "  tf.keras.layers.Conv2D(512, (3,3), activation=\"tanh\", padding=\"same\"),\n",
        "  BatchNormalization(),\n",
        "  tf.keras.layers.Conv2D(256, (3,3), activation=\"tanh\", padding=\"same\"),\n",
        "  BatchNormalization(),\n",
        "  tf.keras.layers.MaxPool2D(2),\n",
        "  tf.keras.layers.Dropout(0.5),\n",
        "  tf.keras.layers.Conv2D(128, (3,3), activation=\"tanh\", padding=\"same\"),\n",
        "  BatchNormalization(),\n",
        "  tf.keras.layers.Conv2D(64, (3,3), activation=\"tanh\", padding=\"same\"),\n",
        "  BatchNormalization(),\n",
        "  tf.keras.layers.MaxPool2D(2),\n",
        "  tf.keras.layers.Dropout(0.5),\n",
        "  tf.keras.layers.Conv2D(32, (3,3), activation=\"tanh\", padding=\"same\"),\n",
        "  tf.keras.layers.MaxPool2D(2),\n",
        "  tf.keras.layers.Dropout(0.5),\n",
        "  tf.keras.layers.Flatten(),\n",
        "  tf.keras.layers.Dense(15, activation=\"softmax\")\n",
        "])\n",
        "\n",
        "# Compile the model\n",
        "model_1.compile(loss=\"categorical_crossentropy\",\n",
        "                optimizer=tf.keras.optimizers.Adam(),\n",
        "                metrics=[\"accuracy\"])\n",
        "\n",
        "checkpoint_callback = tf.keras.callbacks.ModelCheckpoint(filepath=\"checkpoint/\",\n",
        "                                                         save_weights_only=False,\n",
        "                                                         save_best_only=True,\n",
        "                                                         save_freq=\"epoch\",\n",
        "                                                         verbose=1)\n",
        "\n",
        "reduce_lr = ReduceLROnPlateau(monitor='val_accuracy', factor=0.2,\n",
        "                              patience=8, min_lr=0.00001)\n",
        "\n",
        "# Fit the model\n",
        "history = model_1.fit(train_data, epochs=30, callbacks=[reduce_lr, checkpoint_callback], validation_data=test_data)"
      ]
    },
    {
      "cell_type": "code",
      "execution_count": null,
      "metadata": {
        "colab": {
          "base_uri": "https://localhost:8080/",
          "height": 541
        },
        "id": "HtIalFOWYTXa",
        "outputId": "1894682a-a959-4fbe-8edb-1f647affa218"
      },
      "outputs": [
        {
          "data": {
            "image/png": "[encoded data removed]",
            "text/plain": [
              "<Figure size 432x288 with 1 Axes>"
            ]
          },
          "metadata": {
            "needs_background": "light"
          },
          "output_type": "display_data"
        },
        {
          "data": {
            "image/png": "[encoded data removed]",
            "text/plain": [
              "<Figure size 432x288 with 1 Axes>"
            ]
          },
          "metadata": {
            "needs_background": "light"
          },
          "output_type": "display_data"
        }
      ],
      "source": [
        "import matplotlib.pyplot as plt\n",
        "\n",
        "def plot_graphs(history, string):\n",
        "  plt.plot(history.history[string])\n",
        "  plt.plot(history.history['val_'+string])\n",
        "  plt.xlabel('Epochs')\n",
        "  plt.ylabel(string)\n",
        "  plt.legend([string, 'val_'+string])\n",
        "  plt.show()\n",
        "\n",
        "plot_graphs(history, 'accuracy')\n",
        "plot_graphs(history, 'loss')"
      ]
    },
    {
      "cell_type": "code",
      "execution_count": null,
      "metadata": {
        "id": "GPaT8PvxYXIP"
      },
      "outputs": [],
      "source": [
        "model_1.save(\"model_tanh.h5\")"
      ]
    },
    {
      "cell_type": "code",
      "execution_count": null,
      "metadata": {
        "id": "vxe7qab8YgnG"
      },
      "outputs": [],
      "source": []
    },
    {
      "cell_type": "code",
      "execution_count": null,
      "metadata": {
        "colab": {
          "base_uri": "https://localhost:8080/"
        },
        "id": "REO5liXZY-V5",
        "outputId": "37de1cce-9ff4-4e2e-ef89-4f8e63aaab22"
      },
      "outputs": [
        {
          "name": "stdout",
          "output_type": "stream",
          "text": [
            "Epoch 1/30\n",
            "1/1 [==============================] - ETA: 0s - loss: 7.4204 - accuracy: 0.0635\n",
            "Epoch 1: val_loss improved from inf to 4.05727, saving model to checkpoint/\n"
          ]
        },
        {
          "name": "stderr",
          "output_type": "stream",
          "text": [
            "WARNING:absl:Found untraced functions such as _jit_compiled_convolution_op, _jit_compiled_convolution_op, _jit_compiled_convolution_op, _jit_compiled_convolution_op, _jit_compiled_convolution_op while saving (showing 5 of 5). These functions will not be directly callable after loading.\n"
          ]
        },
        {
          "name": "stdout",
          "output_type": "stream",
          "text": [
            "\b\b\b\b\b\b\b\b\b\b\b\b\b\b\b\b\b\b\b\b\b\b\b\b\b\b\b\b\b\b\b\b\b\b\b\b\b\b\b\b\b\b\b\b\b\b\b\b\b\b\b\b\b\b\b\b\b\b\b\b\b\b\b\b\b\b\b\b\b\b\b\b\b\b\b\b\b\b\b\b\r",
            "1/1 [==============================] - 5s 5s/step - loss: 7.4204 - accuracy: 0.0635 - val_loss: 4.0573 - val_accuracy: 0.0667 - lr: 0.0010\n",
            "Epoch 2/30\n",
            "1/1 [==============================] - ETA: 0s - loss: 9.9702 - accuracy: 0.1111\n",
            "Epoch 2: val_loss did not improve from 4.05727\n",
            "1/1 [==============================] - 2s 2s/step - loss: 9.9702 - accuracy: 0.1111 - val_loss: 6.0167 - val_accuracy: 0.1333 - lr: 0.0010\n",
            "Epoch 3/30\n",
            "1/1 [==============================] - ETA: 0s - loss: 8.7932 - accuracy: 0.0476\n",
            "Epoch 3: val_loss did not improve from 4.05727\n",
            "1/1 [==============================] - 2s 2s/step - loss: 8.7932 - accuracy: 0.0476 - val_loss: 6.9447 - val_accuracy: 0.1333 - lr: 0.0010\n",
            "Epoch 4/30\n",
            "1/1 [==============================] - ETA: 0s - loss: 7.2233 - accuracy: 0.1270\n",
            "Epoch 4: val_loss did not improve from 4.05727\n",
            "1/1 [==============================] - 2s 2s/step - loss: 7.2233 - accuracy: 0.1270 - val_loss: 9.2963 - val_accuracy: 0.0667 - lr: 0.0010\n",
            "Epoch 5/30\n",
            "1/1 [==============================] - ETA: 0s - loss: 5.3719 - accuracy: 0.1587\n",
            "Epoch 5: val_loss did not improve from 4.05727\n",
            "1/1 [==============================] - 2s 2s/step - loss: 5.3719 - accuracy: 0.1587 - val_loss: 11.9244 - val_accuracy: 0.0667 - lr: 0.0010\n",
            "Epoch 6/30\n",
            "1/1 [==============================] - ETA: 0s - loss: 5.1054 - accuracy: 0.0635\n",
            "Epoch 6: val_loss did not improve from 4.05727\n",
            "1/1 [==============================] - 2s 2s/step - loss: 5.1054 - accuracy: 0.0635 - val_loss: 12.9690 - val_accuracy: 0.0667 - lr: 0.0010\n",
            "Epoch 7/30\n",
            "1/1 [==============================] - ETA: 0s - loss: 4.1834 - accuracy: 0.1270\n",
            "Epoch 7: val_loss did not improve from 4.05727\n",
            "1/1 [==============================] - 2s 2s/step - loss: 4.1834 - accuracy: 0.1270 - val_loss: 13.1279 - val_accuracy: 0.0667 - lr: 0.0010\n",
            "Epoch 8/30\n",
            "1/1 [==============================] - ETA: 0s - loss: 4.3817 - accuracy: 0.1111\n",
            "Epoch 8: val_loss did not improve from 4.05727\n",
            "1/1 [==============================] - 2s 2s/step - loss: 4.3817 - accuracy: 0.1111 - val_loss: 12.4120 - val_accuracy: 0.0667 - lr: 0.0010\n",
            "Epoch 9/30\n",
            "1/1 [==============================] - ETA: 0s - loss: 3.8071 - accuracy: 0.2063\n",
            "Epoch 9: val_loss did not improve from 4.05727\n",
            "1/1 [==============================] - 2s 2s/step - loss: 3.8071 - accuracy: 0.2063 - val_loss: 11.6718 - val_accuracy: 0.0667 - lr: 0.0010\n",
            "Epoch 10/30\n",
            "1/1 [==============================] - ETA: 0s - loss: 4.5172 - accuracy: 0.0952\n",
            "Epoch 10: val_loss did not improve from 4.05727\n",
            "1/1 [==============================] - 2s 2s/step - loss: 4.5172 - accuracy: 0.0952 - val_loss: 10.3913 - val_accuracy: 0.0667 - lr: 0.0010\n",
            "Epoch 11/30\n",
            "1/1 [==============================] - ETA: 0s - loss: 3.5988 - accuracy: 0.1746\n",
            "Epoch 11: val_loss did not improve from 4.05727\n",
            "1/1 [==============================] - 2s 2s/step - loss: 3.5988 - accuracy: 0.1746 - val_loss: 9.7641 - val_accuracy: 0.0667 - lr: 2.0000e-04\n",
            "Epoch 12/30\n",
            "1/1 [==============================] - ETA: 0s - loss: 3.1304 - accuracy: 0.2222\n",
            "Epoch 12: val_loss did not improve from 4.05727\n",
            "1/1 [==============================] - 2s 2s/step - loss: 3.1304 - accuracy: 0.2222 - val_loss: 9.2208 - val_accuracy: 0.0667 - lr: 2.0000e-04\n",
            "Epoch 13/30\n",
            "1/1 [==============================] - ETA: 0s - loss: 3.6877 - accuracy: 0.1111\n",
            "Epoch 13: val_loss did not improve from 4.05727\n",
            "1/1 [==============================] - 2s 2s/step - loss: 3.6877 - accuracy: 0.1111 - val_loss: 8.6999 - val_accuracy: 0.0667 - lr: 2.0000e-04\n",
            "Epoch 14/30\n",
            "1/1 [==============================] - ETA: 0s - loss: 3.7721 - accuracy: 0.2381\n",
            "Epoch 14: val_loss did not improve from 4.05727\n",
            "1/1 [==============================] - 2s 2s/step - loss: 3.7721 - accuracy: 0.2381 - val_loss: 8.2872 - val_accuracy: 0.0667 - lr: 2.0000e-04\n",
            "Epoch 15/30\n",
            "1/1 [==============================] - ETA: 0s - loss: 4.1402 - accuracy: 0.1111\n",
            "Epoch 15: val_loss did not improve from 4.05727\n",
            "1/1 [==============================] - 2s 2s/step - loss: 4.1402 - accuracy: 0.1111 - val_loss: 7.8842 - val_accuracy: 0.0667 - lr: 2.0000e-04\n",
            "Epoch 16/30\n",
            "1/1 [==============================] - ETA: 0s - loss: 3.8253 - accuracy: 0.2222\n",
            "Epoch 16: val_loss did not improve from 4.05727\n",
            "1/1 [==============================] - 2s 2s/step - loss: 3.8253 - accuracy: 0.2222 - val_loss: 7.5330 - val_accuracy: 0.0667 - lr: 2.0000e-04\n",
            "Epoch 17/30\n",
            "1/1 [==============================] - ETA: 0s - loss: 3.4614 - accuracy: 0.1746\n",
            "Epoch 17: val_loss did not improve from 4.05727\n",
            "1/1 [==============================] - 2s 2s/step - loss: 3.4614 - accuracy: 0.1746 - val_loss: 7.1636 - val_accuracy: 0.0667 - lr: 2.0000e-04\n",
            "Epoch 18/30\n",
            "1/1 [==============================] - ETA: 0s - loss: 3.4758 - accuracy: 0.2222\n",
            "Epoch 18: val_loss did not improve from 4.05727\n",
            "1/1 [==============================] - 2s 2s/step - loss: 3.4758 - accuracy: 0.2222 - val_loss: 6.8913 - val_accuracy: 0.0667 - lr: 2.0000e-04\n",
            "Epoch 19/30\n",
            "1/1 [==============================] - ETA: 0s - loss: 3.3617 - accuracy: 0.2222\n",
            "Epoch 19: val_loss did not improve from 4.05727\n",
            "1/1 [==============================] - 2s 2s/step - loss: 3.3617 - accuracy: 0.2222 - val_loss: 6.6671 - val_accuracy: 0.0667 - lr: 4.0000e-05\n",
            "Epoch 20/30\n",
            "1/1 [==============================] - ETA: 0s - loss: 3.5246 - accuracy: 0.1587\n",
            "Epoch 20: val_loss did not improve from 4.05727\n",
            "1/1 [==============================] - 2s 2s/step - loss: 3.5246 - accuracy: 0.1587 - val_loss: 6.4461 - val_accuracy: 0.0667 - lr: 4.0000e-05\n",
            "Epoch 21/30\n",
            "1/1 [==============================] - ETA: 0s - loss: 3.8005 - accuracy: 0.1905\n",
            "Epoch 21: val_loss did not improve from 4.05727\n",
            "1/1 [==============================] - 2s 2s/step - loss: 3.8005 - accuracy: 0.1905 - val_loss: 6.2476 - val_accuracy: 0.0667 - lr: 4.0000e-05\n",
            "Epoch 22/30\n",
            "1/1 [==============================] - ETA: 0s - loss: 3.5440 - accuracy: 0.2222\n",
            "Epoch 22: val_loss did not improve from 4.05727\n",
            "1/1 [==============================] - 2s 2s/step - loss: 3.5440 - accuracy: 0.2222 - val_loss: 6.0704 - val_accuracy: 0.0667 - lr: 4.0000e-05\n",
            "Epoch 23/30\n",
            "1/1 [==============================] - ETA: 0s - loss: 3.3201 - accuracy: 0.2222\n",
            "Epoch 23: val_loss did not improve from 4.05727\n",
            "1/1 [==============================] - 2s 2s/step - loss: 3.3201 - accuracy: 0.2222 - val_loss: 5.8992 - val_accuracy: 0.0667 - lr: 4.0000e-05\n",
            "Epoch 24/30\n",
            "1/1 [==============================] - ETA: 0s - loss: 4.1193 - accuracy: 0.1270\n",
            "Epoch 24: val_loss did not improve from 4.05727\n",
            "1/1 [==============================] - 2s 2s/step - loss: 4.1193 - accuracy: 0.1270 - val_loss: 5.7336 - val_accuracy: 0.0667 - lr: 4.0000e-05\n",
            "Epoch 25/30\n",
            "1/1 [==============================] - ETA: 0s - loss: 3.2346 - accuracy: 0.1905\n",
            "Epoch 25: val_loss did not improve from 4.05727\n",
            "1/1 [==============================] - 2s 2s/step - loss: 3.2346 - accuracy: 0.1905 - val_loss: 5.5670 - val_accuracy: 0.0667 - lr: 4.0000e-05\n",
            "Epoch 26/30\n",
            "1/1 [==============================] - ETA: 0s - loss: 3.0974 - accuracy: 0.2540\n",
            "Epoch 26: val_loss did not improve from 4.05727\n",
            "1/1 [==============================] - 2s 2s/step - loss: 3.0974 - accuracy: 0.2540 - val_loss: 5.4099 - val_accuracy: 0.0667 - lr: 4.0000e-05\n",
            "Epoch 27/30\n",
            "1/1 [==============================] - ETA: 0s - loss: 3.1621 - accuracy: 0.1905\n",
            "Epoch 27: val_loss did not improve from 4.05727\n",
            "1/1 [==============================] - 2s 2s/step - loss: 3.1621 - accuracy: 0.1905 - val_loss: 5.2664 - val_accuracy: 0.0667 - lr: 1.0000e-05\n",
            "Epoch 28/30\n",
            "1/1 [==============================] - ETA: 0s - loss: 3.4946 - accuracy: 0.1746\n",
            "Epoch 28: val_loss did not improve from 4.05727\n",
            "1/1 [==============================] - 2s 2s/step - loss: 3.4946 - accuracy: 0.1746 - val_loss: 5.1317 - val_accuracy: 0.0667 - lr: 1.0000e-05\n",
            "Epoch 29/30\n",
            "1/1 [==============================] - ETA: 0s - loss: 3.2174 - accuracy: 0.2381\n",
            "Epoch 29: val_loss did not improve from 4.05727\n",
            "1/1 [==============================] - 2s 2s/step - loss: 3.2174 - accuracy: 0.2381 - val_loss: 5.0039 - val_accuracy: 0.0667 - lr: 1.0000e-05\n",
            "Epoch 30/30\n",
            "1/1 [==============================] - ETA: 0s - loss: 3.5414 - accuracy: 0.2540\n",
            "Epoch 30: val_loss did not improve from 4.05727\n",
            "1/1 [==============================] - 2s 2s/step - loss: 3.5414 - accuracy: 0.2540 - val_loss: 4.8824 - val_accuracy: 0.0667 - lr: 1.0000e-05\n"
          ]
        }
      ],
      "source": [
        "\n",
        "# batch size 64\n",
        "tf.random.set_seed(42)\n",
        "# Create the model\n",
        "model_1 = Sequential([\n",
        "  tf.keras.layers.Input(shape=(124, 124, 3)),\n",
        "  tf.keras.layers.Conv2D(512, (3,3), activation=\"selu\", padding=\"same\"),\n",
        "  BatchNormalization(),\n",
        "  tf.keras.layers.Conv2D(256, (3,3), activation=\"selu\", padding=\"same\"),\n",
        "  BatchNormalization(),\n",
        "  tf.keras.layers.MaxPool2D(2),\n",
        "  tf.keras.layers.Dropout(0.5),\n",
        "  tf.keras.layers.Conv2D(128, (3,3), activation=\"selu\", padding=\"same\"),\n",
        "  BatchNormalization(),\n",
        "  tf.keras.layers.Conv2D(64, (3,3), activation=\"selu\", padding=\"same\"),\n",
        "  BatchNormalization(),\n",
        "  tf.keras.layers.MaxPool2D(2),\n",
        "  tf.keras.layers.Dropout(0.5),\n",
        "  tf.keras.layers.Conv2D(32, (3,3), activation=\"selu\", padding=\"same\"),\n",
        "  tf.keras.layers.MaxPool2D(2),\n",
        "  tf.keras.layers.Dropout(0.5),\n",
        "  tf.keras.layers.Flatten(),\n",
        "  tf.keras.layers.Dense(15, activation=\"softmax\")\n",
        "])\n",
        "\n",
        "# Compile the model\n",
        "model_1.compile(loss=\"categorical_crossentropy\",\n",
        "                optimizer=tf.keras.optimizers.Adam(),\n",
        "                metrics=[\"accuracy\"])\n",
        "\n",
        "checkpoint_callback = tf.keras.callbacks.ModelCheckpoint(filepath=\"checkpoint/\",\n",
        "                                                         save_weights_only=False,\n",
        "                                                         save_best_only=True,\n",
        "                                                         save_freq=\"epoch\",\n",
        "                                                         verbose=1)\n",
        "\n",
        "reduce_lr = ReduceLROnPlateau(monitor='val_accuracy', factor=0.2,\n",
        "                              patience=8, min_lr=0.00001)\n",
        "\n",
        "# Fit the model\n",
        "history = model_1.fit(train_data, epochs=30, callbacks=[reduce_lr, checkpoint_callback], validation_data=test_data)"
      ]
    },
    {
      "cell_type": "code",
      "execution_count": null,
      "metadata": {
        "colab": {
          "base_uri": "https://localhost:8080/",
          "height": 541
        },
        "id": "hGsTTJSaZLNg",
        "outputId": "7d1a0732-6c33-46a8-94f4-23d731ebe508"
      },
      "outputs": [
        {
          "data": {
            "image/png": "[encoded data removed]",
            "text/plain": [
              "<Figure size 432x288 with 1 Axes>"
            ]
          },
          "metadata": {
            "needs_background": "light"
          },
          "output_type": "display_data"
        },
        {
          "data": {
            "image/png": "[encoded data removed]",
            "text/plain": [
              "<Figure size 432x288 with 1 Axes>"
            ]
          },
          "metadata": {
            "needs_background": "light"
          },
          "output_type": "display_data"
        }
      ],
      "source": [
        "import matplotlib.pyplot as plt\n",
        "\n",
        "def plot_graphs(history, string):\n",
        "  plt.plot(history.history[string])\n",
        "  plt.plot(history.history['val_'+string])\n",
        "  plt.xlabel('Epochs')\n",
        "  plt.ylabel(string)\n",
        "  plt.legend([string, 'val_'+string])\n",
        "  plt.show()\n",
        "\n",
        "plot_graphs(history, 'accuracy')\n",
        "plot_graphs(history, 'loss')"
      ]
    },
    {
      "cell_type": "code",
      "execution_count": null,
      "metadata": {
        "id": "lr1Jhzg2ZO6l"
      },
      "outputs": [],
      "source": [
        "model_1.save(\"model_selu.h5\")"
      ]
    },
    {
      "cell_type": "code",
      "execution_count": null,
      "metadata": {
        "id": "VfDhbw_gZU--"
      },
      "outputs": [],
      "source": []
    },
    {
      "cell_type": "code",
      "execution_count": null,
      "metadata": {
        "colab": {
          "base_uri": "https://localhost:8080/"
        },
        "id": "fFTgBfLXZjUS",
        "outputId": "1b8e87a1-2d80-41e5-9059-577e8ee3a19b"
      },
      "outputs": [
        {
          "name": "stdout",
          "output_type": "stream",
          "text": [
            "Epoch 1/30\n",
            "1/1 [==============================] - ETA: 0s - loss: 8.0070 - accuracy: 0.0635\n",
            "Epoch 1: val_loss improved from inf to 2.77750, saving model to checkpoint/\n"
          ]
        },
        {
          "name": "stderr",
          "output_type": "stream",
          "text": [
            "WARNING:absl:Found untraced functions such as _jit_compiled_convolution_op, _jit_compiled_convolution_op, _jit_compiled_convolution_op, _jit_compiled_convolution_op, _jit_compiled_convolution_op while saving (showing 5 of 5). These functions will not be directly callable after loading.\n"
          ]
        },
        {
          "name": "stdout",
          "output_type": "stream",
          "text": [
            "\b\b\b\b\b\b\b\b\b\b\b\b\b\b\b\b\b\b\b\b\b\b\b\b\b\b\b\b\b\b\b\b\b\b\b\b\b\b\b\b\b\b\b\b\b\b\b\b\b\b\b\b\b\b\b\b\b\b\b\b\b\b\b\b\b\b\b\b\b\b\b\b\b\b\b\b\b\b\b\b\r",
            "1/1 [==============================] - 5s 5s/step - loss: 8.0070 - accuracy: 0.0635 - val_loss: 2.7775 - val_accuracy: 0.0667 - lr: 0.0010\n",
            "Epoch 2/30\n",
            "1/1 [==============================] - ETA: 0s - loss: 11.3816 - accuracy: 0.1429\n",
            "Epoch 2: val_loss did not improve from 2.77750\n",
            "1/1 [==============================] - 2s 2s/step - loss: 11.3816 - accuracy: 0.1429 - val_loss: 2.9725 - val_accuracy: 0.0667 - lr: 0.0010\n",
            "Epoch 3/30\n",
            "1/1 [==============================] - ETA: 0s - loss: 10.2206 - accuracy: 0.0317\n",
            "Epoch 3: val_loss did not improve from 2.77750\n",
            "1/1 [==============================] - 2s 2s/step - loss: 10.2206 - accuracy: 0.0317 - val_loss: 3.3839 - val_accuracy: 0.0667 - lr: 0.0010\n",
            "Epoch 4/30\n",
            "1/1 [==============================] - ETA: 0s - loss: 6.1547 - accuracy: 0.0952\n",
            "Epoch 4: val_loss did not improve from 2.77750\n",
            "1/1 [==============================] - 2s 2s/step - loss: 6.1547 - accuracy: 0.0952 - val_loss: 4.1378 - val_accuracy: 0.0667 - lr: 0.0010\n",
            "Epoch 5/30\n",
            "1/1 [==============================] - ETA: 0s - loss: 6.0660 - accuracy: 0.0794\n",
            "Epoch 5: val_loss did not improve from 2.77750\n",
            "1/1 [==============================] - 2s 2s/step - loss: 6.0660 - accuracy: 0.0794 - val_loss: 5.8877 - val_accuracy: 0.0667 - lr: 0.0010\n",
            "Epoch 6/30\n",
            "1/1 [==============================] - ETA: 0s - loss: 5.6086 - accuracy: 0.1270\n",
            "Epoch 6: val_loss did not improve from 2.77750\n",
            "1/1 [==============================] - 2s 2s/step - loss: 5.6086 - accuracy: 0.1270 - val_loss: 6.9590 - val_accuracy: 0.0667 - lr: 0.0010\n",
            "Epoch 7/30\n",
            "1/1 [==============================] - ETA: 0s - loss: 4.7286 - accuracy: 0.1746\n",
            "Epoch 7: val_loss did not improve from 2.77750\n",
            "1/1 [==============================] - 2s 2s/step - loss: 4.7286 - accuracy: 0.1746 - val_loss: 6.3547 - val_accuracy: 0.0667 - lr: 0.0010\n",
            "Epoch 8/30\n",
            "1/1 [==============================] - ETA: 0s - loss: 3.5262 - accuracy: 0.1746\n",
            "Epoch 8: val_loss did not improve from 2.77750\n",
            "1/1 [==============================] - 2s 2s/step - loss: 3.5262 - accuracy: 0.1746 - val_loss: 5.9106 - val_accuracy: 0.0667 - lr: 0.0010\n",
            "Epoch 9/30\n",
            "1/1 [==============================] - ETA: 0s - loss: 3.9388 - accuracy: 0.1111\n",
            "Epoch 9: val_loss did not improve from 2.77750\n",
            "1/1 [==============================] - 2s 2s/step - loss: 3.9388 - accuracy: 0.1111 - val_loss: 5.5843 - val_accuracy: 0.0667 - lr: 0.0010\n",
            "Epoch 10/30\n",
            "1/1 [==============================] - ETA: 0s - loss: 3.4312 - accuracy: 0.1429\n",
            "Epoch 10: val_loss did not improve from 2.77750\n",
            "1/1 [==============================] - 2s 2s/step - loss: 3.4312 - accuracy: 0.1429 - val_loss: 5.2492 - val_accuracy: 0.0667 - lr: 2.0000e-04\n",
            "Epoch 11/30\n",
            "1/1 [==============================] - ETA: 0s - loss: 3.6605 - accuracy: 0.1270\n",
            "Epoch 11: val_loss did not improve from 2.77750\n",
            "1/1 [==============================] - 2s 2s/step - loss: 3.6605 - accuracy: 0.1270 - val_loss: 4.9777 - val_accuracy: 0.0667 - lr: 2.0000e-04\n",
            "Epoch 12/30\n",
            "1/1 [==============================] - ETA: 0s - loss: 3.4780 - accuracy: 0.2063\n",
            "Epoch 12: val_loss did not improve from 2.77750\n",
            "1/1 [==============================] - 2s 2s/step - loss: 3.4780 - accuracy: 0.2063 - val_loss: 4.7835 - val_accuracy: 0.0667 - lr: 2.0000e-04\n",
            "Epoch 13/30\n",
            "1/1 [==============================] - ETA: 0s - loss: 3.9264 - accuracy: 0.1270\n",
            "Epoch 13: val_loss did not improve from 2.77750\n",
            "1/1 [==============================] - 2s 2s/step - loss: 3.9264 - accuracy: 0.1270 - val_loss: 4.6524 - val_accuracy: 0.0667 - lr: 2.0000e-04\n",
            "Epoch 14/30\n",
            "1/1 [==============================] - ETA: 0s - loss: 3.7611 - accuracy: 0.1905\n",
            "Epoch 14: val_loss did not improve from 2.77750\n",
            "1/1 [==============================] - 2s 2s/step - loss: 3.7611 - accuracy: 0.1905 - val_loss: 4.5001 - val_accuracy: 0.0667 - lr: 2.0000e-04\n",
            "Epoch 15/30\n",
            "1/1 [==============================] - ETA: 0s - loss: 3.6945 - accuracy: 0.1429\n",
            "Epoch 15: val_loss did not improve from 2.77750\n",
            "1/1 [==============================] - 2s 2s/step - loss: 3.6945 - accuracy: 0.1429 - val_loss: 4.3825 - val_accuracy: 0.0667 - lr: 2.0000e-04\n",
            "Epoch 16/30\n",
            "1/1 [==============================] - ETA: 0s - loss: 3.5845 - accuracy: 0.1429\n",
            "Epoch 16: val_loss did not improve from 2.77750\n",
            "1/1 [==============================] - 2s 2s/step - loss: 3.5845 - accuracy: 0.1429 - val_loss: 4.2690 - val_accuracy: 0.0667 - lr: 2.0000e-04\n",
            "Epoch 17/30\n",
            "1/1 [==============================] - ETA: 0s - loss: 2.9669 - accuracy: 0.2381\n",
            "Epoch 17: val_loss did not improve from 2.77750\n",
            "1/1 [==============================] - 2s 2s/step - loss: 2.9669 - accuracy: 0.2381 - val_loss: 4.1452 - val_accuracy: 0.0667 - lr: 2.0000e-04\n",
            "Epoch 18/30\n",
            "1/1 [==============================] - ETA: 0s - loss: 3.0927 - accuracy: 0.1746\n",
            "Epoch 18: val_loss did not improve from 2.77750\n",
            "1/1 [==============================] - 2s 2s/step - loss: 3.0927 - accuracy: 0.1746 - val_loss: 3.9773 - val_accuracy: 0.0667 - lr: 4.0000e-05\n",
            "Epoch 19/30\n",
            "1/1 [==============================] - ETA: 0s - loss: 2.7635 - accuracy: 0.2857\n",
            "Epoch 19: val_loss did not improve from 2.77750\n",
            "1/1 [==============================] - 2s 2s/step - loss: 2.7635 - accuracy: 0.2857 - val_loss: 3.8202 - val_accuracy: 0.0667 - lr: 4.0000e-05\n",
            "Epoch 20/30\n",
            "1/1 [==============================] - ETA: 0s - loss: 3.2564 - accuracy: 0.1587\n",
            "Epoch 20: val_loss did not improve from 2.77750\n",
            "1/1 [==============================] - 2s 2s/step - loss: 3.2564 - accuracy: 0.1587 - val_loss: 3.6856 - val_accuracy: 0.0667 - lr: 4.0000e-05\n",
            "Epoch 21/30\n",
            "1/1 [==============================] - ETA: 0s - loss: 2.9540 - accuracy: 0.1905\n",
            "Epoch 21: val_loss did not improve from 2.77750\n",
            "1/1 [==============================] - 2s 2s/step - loss: 2.9540 - accuracy: 0.1905 - val_loss: 3.5706 - val_accuracy: 0.0667 - lr: 4.0000e-05\n",
            "Epoch 22/30\n",
            "1/1 [==============================] - ETA: 0s - loss: 3.0306 - accuracy: 0.2222\n",
            "Epoch 22: val_loss did not improve from 2.77750\n",
            "1/1 [==============================] - 2s 2s/step - loss: 3.0306 - accuracy: 0.2222 - val_loss: 3.4645 - val_accuracy: 0.0667 - lr: 4.0000e-05\n",
            "Epoch 23/30\n",
            "1/1 [==============================] - ETA: 0s - loss: 2.9612 - accuracy: 0.2222\n",
            "Epoch 23: val_loss did not improve from 2.77750\n",
            "1/1 [==============================] - 2s 2s/step - loss: 2.9612 - accuracy: 0.2222 - val_loss: 3.3646 - val_accuracy: 0.0667 - lr: 4.0000e-05\n",
            "Epoch 24/30\n",
            "1/1 [==============================] - ETA: 0s - loss: 3.3345 - accuracy: 0.1905\n",
            "Epoch 24: val_loss did not improve from 2.77750\n",
            "1/1 [==============================] - 2s 2s/step - loss: 3.3345 - accuracy: 0.1905 - val_loss: 3.2749 - val_accuracy: 0.0667 - lr: 4.0000e-05\n",
            "Epoch 25/30\n",
            "1/1 [==============================] - ETA: 0s - loss: 3.0144 - accuracy: 0.2698\n",
            "Epoch 25: val_loss did not improve from 2.77750\n",
            "1/1 [==============================] - 2s 2s/step - loss: 3.0144 - accuracy: 0.2698 - val_loss: 3.1943 - val_accuracy: 0.0667 - lr: 4.0000e-05\n",
            "Epoch 26/30\n",
            "1/1 [==============================] - ETA: 0s - loss: 3.1119 - accuracy: 0.2222\n",
            "Epoch 26: val_loss did not improve from 2.77750\n",
            "1/1 [==============================] - 2s 2s/step - loss: 3.1119 - accuracy: 0.2222 - val_loss: 3.1284 - val_accuracy: 0.0667 - lr: 1.0000e-05\n",
            "Epoch 27/30\n",
            "1/1 [==============================] - ETA: 0s - loss: 2.8790 - accuracy: 0.2857\n",
            "Epoch 27: val_loss did not improve from 2.77750\n",
            "1/1 [==============================] - 2s 2s/step - loss: 2.8790 - accuracy: 0.2857 - val_loss: 3.0703 - val_accuracy: 0.0667 - lr: 1.0000e-05\n",
            "Epoch 28/30\n",
            "1/1 [==============================] - ETA: 0s - loss: 3.3882 - accuracy: 0.1587\n",
            "Epoch 28: val_loss did not improve from 2.77750\n",
            "1/1 [==============================] - 2s 2s/step - loss: 3.3882 - accuracy: 0.1587 - val_loss: 3.0201 - val_accuracy: 0.0667 - lr: 1.0000e-05\n",
            "Epoch 29/30\n",
            "1/1 [==============================] - ETA: 0s - loss: 2.9708 - accuracy: 0.1905\n",
            "Epoch 29: val_loss did not improve from 2.77750\n",
            "1/1 [==============================] - 2s 2s/step - loss: 2.9708 - accuracy: 0.1905 - val_loss: 2.9750 - val_accuracy: 0.0667 - lr: 1.0000e-05\n",
            "Epoch 30/30\n",
            "1/1 [==============================] - ETA: 0s - loss: 2.6235 - accuracy: 0.2381\n",
            "Epoch 30: val_loss did not improve from 2.77750\n",
            "1/1 [==============================] - 2s 2s/step - loss: 2.6235 - accuracy: 0.2381 - val_loss: 2.9361 - val_accuracy: 0.0667 - lr: 1.0000e-05\n"
          ]
        }
      ],
      "source": [
        "\n",
        "# batch size 64\n",
        "tf.random.set_seed(42)\n",
        "# Create the model\n",
        "model_1 = Sequential([\n",
        "  tf.keras.layers.Input(shape=(124, 124, 3)),\n",
        "  tf.keras.layers.Conv2D(512, (3,3), activation=\"elu\", padding=\"same\"),\n",
        "  BatchNormalization(),\n",
        "  tf.keras.layers.Conv2D(256, (3,3), activation=\"elu\", padding=\"same\"),\n",
        "  BatchNormalization(),\n",
        "  tf.keras.layers.MaxPool2D(2),\n",
        "  tf.keras.layers.Dropout(0.5),\n",
        "  tf.keras.layers.Conv2D(128, (3,3), activation=\"elu\", padding=\"same\"),\n",
        "  BatchNormalization(),\n",
        "  tf.keras.layers.Conv2D(64, (3,3), activation=\"elu\", padding=\"same\"),\n",
        "  BatchNormalization(),\n",
        "  tf.keras.layers.MaxPool2D(2),\n",
        "  tf.keras.layers.Dropout(0.5),\n",
        "  tf.keras.layers.Conv2D(32, (3,3), activation=\"elu\", padding=\"same\"),\n",
        "  tf.keras.layers.MaxPool2D(2),\n",
        "  tf.keras.layers.Dropout(0.5),\n",
        "  tf.keras.layers.Flatten(),\n",
        "  tf.keras.layers.Dense(15, activation=\"softmax\")\n",
        "])\n",
        "\n",
        "# Compile the model\n",
        "model_1.compile(loss=\"categorical_crossentropy\",\n",
        "                optimizer=tf.keras.optimizers.Adam(),\n",
        "                metrics=[\"accuracy\"])\n",
        "\n",
        "checkpoint_callback = tf.keras.callbacks.ModelCheckpoint(filepath=\"checkpoint/\",\n",
        "                                                         save_weights_only=False,\n",
        "                                                         save_best_only=True,\n",
        "                                                         save_freq=\"epoch\",\n",
        "                                                         verbose=1)\n",
        "\n",
        "reduce_lr = ReduceLROnPlateau(monitor='val_accuracy', factor=0.2,\n",
        "                              patience=8, min_lr=0.00001)\n",
        "\n",
        "# Fit the model\n",
        "history = model_1.fit(train_data, epochs=30, callbacks=[reduce_lr, checkpoint_callback], validation_data=test_data)"
      ]
    },
    {
      "cell_type": "code",
      "execution_count": null,
      "metadata": {
        "colab": {
          "base_uri": "https://localhost:8080/",
          "height": 541
        },
        "id": "mKC6GCkRZ-E-",
        "outputId": "82eb6661-cc19-493c-b809-16094e3a5ab8"
      },
      "outputs": [
        {
          "data": {
            "image/png": "[encoded data removed]",
            "text/plain": [
              "<Figure size 432x288 with 1 Axes>"
            ]
          },
          "metadata": {
            "needs_background": "light"
          },
          "output_type": "display_data"
        },
        {
          "data": {
            "image/png": "[encoded data removed]",
            "text/plain": [
              "<Figure size 432x288 with 1 Axes>"
            ]
          },
          "metadata": {
            "needs_background": "light"
          },
          "output_type": "display_data"
        }
      ],
      "source": [
        "import matplotlib.pyplot as plt\n",
        "\n",
        "def plot_graphs(history, string):\n",
        "  plt.plot(history.history[string])\n",
        "  plt.plot(history.history['val_'+string])\n",
        "  plt.xlabel('Epochs')\n",
        "  plt.ylabel(string)\n",
        "  plt.legend([string, 'val_'+string])\n",
        "  plt.show()\n",
        "\n",
        "plot_graphs(history, 'accuracy')\n",
        "plot_graphs(history, 'loss')"
      ]
    },
    {
      "cell_type": "code",
      "execution_count": null,
      "metadata": {
        "id": "M4kpg1GvaAqE"
      },
      "outputs": [],
      "source": [
        "model_1.save(\"model_elu.h5\")"
      ]
    },
    {
      "cell_type": "code",
      "execution_count": null,
      "metadata": {
        "id": "Tx-BQ7iZaEhY"
      },
      "outputs": [],
      "source": [
        "# exponential"
      ]
    },
    {
      "cell_type": "code",
      "execution_count": null,
      "metadata": {
        "colab": {
          "base_uri": "https://localhost:8080/"
        },
        "id": "D5BYoqZ_awOQ",
        "outputId": "569bf79b-9bc2-4689-8793-692826b34bb4"
      },
      "outputs": [
        {
          "name": "stdout",
          "output_type": "stream",
          "text": [
            "Epoch 1/30\n",
            "1/1 [==============================] - ETA: 0s - loss: nan - accuracy: 0.1429\n",
            "Epoch 1: val_loss did not improve from inf\n",
            "1/1 [==============================] - 3s 3s/step - loss: nan - accuracy: 0.1429 - val_loss: nan - val_accuracy: 0.0667 - lr: 0.0010\n",
            "Epoch 2/30\n",
            "1/1 [==============================] - ETA: 0s - loss: nan - accuracy: 0.1429\n",
            "Epoch 2: val_loss did not improve from inf\n",
            "1/1 [==============================] - 2s 2s/step - loss: nan - accuracy: 0.1429 - val_loss: nan - val_accuracy: 0.0667 - lr: 0.0010\n",
            "Epoch 3/30\n",
            "1/1 [==============================] - ETA: 0s - loss: nan - accuracy: 0.1429\n",
            "Epoch 3: val_loss did not improve from inf\n",
            "1/1 [==============================] - 2s 2s/step - loss: nan - accuracy: 0.1429 - val_loss: nan - val_accuracy: 0.0667 - lr: 0.0010\n",
            "Epoch 4/30\n",
            "1/1 [==============================] - ETA: 0s - loss: nan - accuracy: 0.1429\n",
            "Epoch 4: val_loss did not improve from inf\n",
            "1/1 [==============================] - 2s 2s/step - loss: nan - accuracy: 0.1429 - val_loss: nan - val_accuracy: 0.0667 - lr: 0.0010\n",
            "Epoch 5/30\n",
            "1/1 [==============================] - ETA: 0s - loss: nan - accuracy: 0.1429\n",
            "Epoch 5: val_loss did not improve from inf\n",
            "1/1 [==============================] - 2s 2s/step - loss: nan - accuracy: 0.1429 - val_loss: nan - val_accuracy: 0.0667 - lr: 0.0010\n",
            "Epoch 6/30\n",
            "1/1 [==============================] - ETA: 0s - loss: nan - accuracy: 0.1429\n",
            "Epoch 6: val_loss did not improve from inf\n",
            "1/1 [==============================] - 2s 2s/step - loss: nan - accuracy: 0.1429 - val_loss: nan - val_accuracy: 0.0667 - lr: 0.0010\n",
            "Epoch 7/30\n",
            "1/1 [==============================] - ETA: 0s - loss: nan - accuracy: 0.1429\n",
            "Epoch 7: val_loss did not improve from inf\n",
            "1/1 [==============================] - 2s 2s/step - loss: nan - accuracy: 0.1429 - val_loss: nan - val_accuracy: 0.0667 - lr: 0.0010\n",
            "Epoch 8/30\n",
            "1/1 [==============================] - ETA: 0s - loss: nan - accuracy: 0.1429\n",
            "Epoch 8: val_loss did not improve from inf\n",
            "1/1 [==============================] - 2s 2s/step - loss: nan - accuracy: 0.1429 - val_loss: nan - val_accuracy: 0.0667 - lr: 0.0010\n",
            "Epoch 9/30\n",
            "1/1 [==============================] - ETA: 0s - loss: nan - accuracy: 0.1429\n",
            "Epoch 9: val_loss did not improve from inf\n",
            "1/1 [==============================] - 2s 2s/step - loss: nan - accuracy: 0.1429 - val_loss: nan - val_accuracy: 0.0667 - lr: 0.0010\n",
            "Epoch 10/30\n",
            "1/1 [==============================] - ETA: 0s - loss: nan - accuracy: 0.1429\n",
            "Epoch 10: val_loss did not improve from inf\n",
            "1/1 [==============================] - 2s 2s/step - loss: nan - accuracy: 0.1429 - val_loss: nan - val_accuracy: 0.0667 - lr: 2.0000e-04\n",
            "Epoch 11/30\n",
            "1/1 [==============================] - ETA: 0s - loss: nan - accuracy: 0.1429\n",
            "Epoch 11: val_loss did not improve from inf\n",
            "1/1 [==============================] - 2s 2s/step - loss: nan - accuracy: 0.1429 - val_loss: nan - val_accuracy: 0.0667 - lr: 2.0000e-04\n",
            "Epoch 12/30\n",
            "1/1 [==============================] - ETA: 0s - loss: nan - accuracy: 0.1429\n",
            "Epoch 12: val_loss did not improve from inf\n",
            "1/1 [==============================] - 2s 2s/step - loss: nan - accuracy: 0.1429 - val_loss: nan - val_accuracy: 0.0667 - lr: 2.0000e-04\n",
            "Epoch 13/30\n",
            "1/1 [==============================] - ETA: 0s - loss: nan - accuracy: 0.1429\n",
            "Epoch 13: val_loss did not improve from inf\n",
            "1/1 [==============================] - 2s 2s/step - loss: nan - accuracy: 0.1429 - val_loss: nan - val_accuracy: 0.0667 - lr: 2.0000e-04\n",
            "Epoch 14/30\n",
            "1/1 [==============================] - ETA: 0s - loss: nan - accuracy: 0.1429\n",
            "Epoch 14: val_loss did not improve from inf\n",
            "1/1 [==============================] - 2s 2s/step - loss: nan - accuracy: 0.1429 - val_loss: nan - val_accuracy: 0.0667 - lr: 2.0000e-04\n",
            "Epoch 15/30\n",
            "1/1 [==============================] - ETA: 0s - loss: nan - accuracy: 0.1429\n",
            "Epoch 15: val_loss did not improve from inf\n",
            "1/1 [==============================] - 2s 2s/step - loss: nan - accuracy: 0.1429 - val_loss: nan - val_accuracy: 0.0667 - lr: 2.0000e-04\n",
            "Epoch 16/30\n",
            "1/1 [==============================] - ETA: 0s - loss: nan - accuracy: 0.1429\n",
            "Epoch 16: val_loss did not improve from inf\n",
            "1/1 [==============================] - 2s 2s/step - loss: nan - accuracy: 0.1429 - val_loss: nan - val_accuracy: 0.0667 - lr: 2.0000e-04\n",
            "Epoch 17/30\n",
            "1/1 [==============================] - ETA: 0s - loss: nan - accuracy: 0.1429\n",
            "Epoch 17: val_loss did not improve from inf\n",
            "1/1 [==============================] - 2s 2s/step - loss: nan - accuracy: 0.1429 - val_loss: nan - val_accuracy: 0.0667 - lr: 2.0000e-04\n",
            "Epoch 18/30\n",
            "1/1 [==============================] - ETA: 0s - loss: nan - accuracy: 0.1429\n",
            "Epoch 18: val_loss did not improve from inf\n",
            "1/1 [==============================] - 2s 2s/step - loss: nan - accuracy: 0.1429 - val_loss: nan - val_accuracy: 0.0667 - lr: 4.0000e-05\n",
            "Epoch 19/30\n",
            "1/1 [==============================] - ETA: 0s - loss: nan - accuracy: 0.1429\n",
            "Epoch 19: val_loss did not improve from inf\n",
            "1/1 [==============================] - 2s 2s/step - loss: nan - accuracy: 0.1429 - val_loss: nan - val_accuracy: 0.0667 - lr: 4.0000e-05\n",
            "Epoch 20/30\n",
            "1/1 [==============================] - ETA: 0s - loss: nan - accuracy: 0.1429\n",
            "Epoch 20: val_loss did not improve from inf\n",
            "1/1 [==============================] - 2s 2s/step - loss: nan - accuracy: 0.1429 - val_loss: nan - val_accuracy: 0.0667 - lr: 4.0000e-05\n",
            "Epoch 21/30\n",
            "1/1 [==============================] - ETA: 0s - loss: nan - accuracy: 0.1429\n",
            "Epoch 21: val_loss did not improve from inf\n",
            "1/1 [==============================] - 2s 2s/step - loss: nan - accuracy: 0.1429 - val_loss: nan - val_accuracy: 0.0667 - lr: 4.0000e-05\n",
            "Epoch 22/30\n",
            "1/1 [==============================] - ETA: 0s - loss: nan - accuracy: 0.1429\n",
            "Epoch 22: val_loss did not improve from inf\n",
            "1/1 [==============================] - 2s 2s/step - loss: nan - accuracy: 0.1429 - val_loss: nan - val_accuracy: 0.0667 - lr: 4.0000e-05\n",
            "Epoch 23/30\n",
            "1/1 [==============================] - ETA: 0s - loss: nan - accuracy: 0.1429\n",
            "Epoch 23: val_loss did not improve from inf\n",
            "1/1 [==============================] - 2s 2s/step - loss: nan - accuracy: 0.1429 - val_loss: nan - val_accuracy: 0.0667 - lr: 4.0000e-05\n",
            "Epoch 24/30\n",
            "1/1 [==============================] - ETA: 0s - loss: nan - accuracy: 0.1429\n",
            "Epoch 24: val_loss did not improve from inf\n",
            "1/1 [==============================] - 2s 2s/step - loss: nan - accuracy: 0.1429 - val_loss: nan - val_accuracy: 0.0667 - lr: 4.0000e-05\n",
            "Epoch 25/30\n",
            "1/1 [==============================] - ETA: 0s - loss: nan - accuracy: 0.1429\n",
            "Epoch 25: val_loss did not improve from inf\n",
            "1/1 [==============================] - 2s 2s/step - loss: nan - accuracy: 0.1429 - val_loss: nan - val_accuracy: 0.0667 - lr: 4.0000e-05\n",
            "Epoch 26/30\n",
            "1/1 [==============================] - ETA: 0s - loss: nan - accuracy: 0.1429\n",
            "Epoch 26: val_loss did not improve from inf\n",
            "1/1 [==============================] - 2s 2s/step - loss: nan - accuracy: 0.1429 - val_loss: nan - val_accuracy: 0.0667 - lr: 1.0000e-05\n",
            "Epoch 27/30\n",
            "1/1 [==============================] - ETA: 0s - loss: nan - accuracy: 0.1429\n",
            "Epoch 27: val_loss did not improve from inf\n",
            "1/1 [==============================] - 2s 2s/step - loss: nan - accuracy: 0.1429 - val_loss: nan - val_accuracy: 0.0667 - lr: 1.0000e-05\n",
            "Epoch 28/30\n",
            "1/1 [==============================] - ETA: 0s - loss: nan - accuracy: 0.1429\n",
            "Epoch 28: val_loss did not improve from inf\n",
            "1/1 [==============================] - 2s 2s/step - loss: nan - accuracy: 0.1429 - val_loss: nan - val_accuracy: 0.0667 - lr: 1.0000e-05\n",
            "Epoch 29/30\n",
            "1/1 [==============================] - ETA: 0s - loss: nan - accuracy: 0.1429\n",
            "Epoch 29: val_loss did not improve from inf\n",
            "1/1 [==============================] - 2s 2s/step - loss: nan - accuracy: 0.1429 - val_loss: nan - val_accuracy: 0.0667 - lr: 1.0000e-05\n",
            "Epoch 30/30\n",
            "1/1 [==============================] - ETA: 0s - loss: nan - accuracy: 0.1429\n",
            "Epoch 30: val_loss did not improve from inf\n",
            "1/1 [==============================] - 2s 2s/step - loss: nan - accuracy: 0.1429 - val_loss: nan - val_accuracy: 0.0667 - lr: 1.0000e-05\n"
          ]
        }
      ],
      "source": [
        "\n",
        "# batch size 64\n",
        "tf.random.set_seed(42)\n",
        "# Create the model\n",
        "model_1 = Sequential([\n",
        "  tf.keras.layers.Input(shape=(124, 124, 3)),\n",
        "  tf.keras.layers.Conv2D(512, (3,3), activation=\"exponential\", padding=\"same\"),\n",
        "  BatchNormalization(),\n",
        "  tf.keras.layers.Conv2D(256, (3,3), activation=\"exponential\", padding=\"same\"),\n",
        "  BatchNormalization(),\n",
        "  tf.keras.layers.MaxPool2D(2),\n",
        "  tf.keras.layers.Dropout(0.5),\n",
        "  tf.keras.layers.Conv2D(128, (3,3), activation=\"exponential\", padding=\"same\"),\n",
        "  BatchNormalization(),\n",
        "  tf.keras.layers.Conv2D(64, (3,3), activation=\"exponential\", padding=\"same\"),\n",
        "  BatchNormalization(),\n",
        "  tf.keras.layers.MaxPool2D(2),\n",
        "  tf.keras.layers.Dropout(0.5),\n",
        "  tf.keras.layers.Conv2D(32, (3,3), activation=\"exponential\", padding=\"same\"),\n",
        "  tf.keras.layers.MaxPool2D(2),\n",
        "  tf.keras.layers.Dropout(0.5),\n",
        "  tf.keras.layers.Flatten(),\n",
        "  tf.keras.layers.Dense(15, activation=\"softmax\")\n",
        "])\n",
        "\n",
        "# Compile the model\n",
        "model_1.compile(loss=\"categorical_crossentropy\",\n",
        "                optimizer=tf.keras.optimizers.Adam(),\n",
        "                metrics=[\"accuracy\"])\n",
        "\n",
        "checkpoint_callback = tf.keras.callbacks.ModelCheckpoint(filepath=\"checkpoint/\",\n",
        "                                                         save_weights_only=False,\n",
        "                                                         save_best_only=True,\n",
        "                                                         save_freq=\"epoch\",\n",
        "                                                         verbose=1)\n",
        "\n",
        "reduce_lr = ReduceLROnPlateau(monitor='val_accuracy', factor=0.2,\n",
        "                              patience=8, min_lr=0.00001)\n",
        "\n",
        "# Fit the model\n",
        "history = model_1.fit(train_data, epochs=30, callbacks=[reduce_lr, checkpoint_callback], validation_data=test_data)"
      ]
    },
    {
      "cell_type": "code",
      "execution_count": null,
      "metadata": {
        "colab": {
          "base_uri": "https://localhost:8080/",
          "height": 541
        },
        "id": "4Git-Ou_a5X-",
        "outputId": "6feb6f4b-f876-4db4-c058-4d13bac517f4"
      },
      "outputs": [
        {
          "data": {
            "image/png": "[encoded data removed]",
            "text/plain": [
              "<Figure size 432x288 with 1 Axes>"
            ]
          },
          "metadata": {
            "needs_background": "light"
          },
          "output_type": "display_data"
        },
        {
          "data": {
            "image/png": "[encoded data removed]",
            "text/plain": [
              "<Figure size 432x288 with 1 Axes>"
            ]
          },
          "metadata": {
            "needs_background": "light"
          },
          "output_type": "display_data"
        }
      ],
      "source": [
        "import matplotlib.pyplot as plt\n",
        "\n",
        "def plot_graphs(history, string):\n",
        "  plt.plot(history.history[string])\n",
        "  plt.plot(history.history['val_'+string])\n",
        "  plt.xlabel('Epochs')\n",
        "  plt.ylabel(string)\n",
        "  plt.legend([string, 'val_'+string])\n",
        "  plt.show()\n",
        "\n",
        "plot_graphs(history, 'accuracy')\n",
        "plot_graphs(history, 'loss')"
      ]
    },
    {
      "cell_type": "code",
      "execution_count": null,
      "metadata": {
        "id": "XWZyZwjya77k"
      },
      "outputs": [],
      "source": [
        "model_1.save(\"model_exponential.h5\")"
      ]
    },
    {
      "cell_type": "code",
      "source": [],
      "metadata": {
        "id": "3_pS6OumBDlv"
      },
      "execution_count": null,
      "outputs": []
    },
    {
      "cell_type": "code",
      "source": [
        "accuracy"
      ],
      "metadata": {
        "id": "J1_F0YgQAuuu",
        "outputId": "c5deaeae-9a32-4f59-8237-08100e99de75",
        "colab": {
          "base_uri": "https://localhost:8080/",
          "height": 269
        }
      },
      "execution_count": 13,
      "outputs": [
        {
          "output_type": "execute_result",
          "data": {
            "text/plain": [
              "         model  accuracy\n",
              "3         tanh    0.4286\n",
              "5          elu    0.2857\n",
              "1         relu    0.2701\n",
              "0      sigmoid    0.2698\n",
              "4         selu    0.2540\n",
              "2     softplus    0.2236\n",
              "6  exponential    0.1429"
            ],
            "text/html": [
              "\n",
              "  <div id=\"df-4ed72497-9464-455f-ac6f-dcc39b821e94\">\n",
              "    <div class=\"colab-df-container\">\n",
              "      <div>\n",
              "<style scoped>\n",
              "    .dataframe tbody tr th:only-of-type {\n",
              "        vertical-align: middle;\n",
              "    }\n",
              "\n",
              "    .dataframe tbody tr th {\n",
              "        vertical-align: top;\n",
              "    }\n",
              "\n",
              "    .dataframe thead th {\n",
              "        text-align: right;\n",
              "    }\n",
              "</style>\n",
              "<table border=\"1\" class=\"dataframe\">\n",
              "  <thead>\n",
              "    <tr style=\"text-align: right;\">\n",
              "      <th></th>\n",
              "      <th>model</th>\n",
              "      <th>accuracy</th>\n",
              "    </tr>\n",
              "  </thead>\n",
              "  <tbody>\n",
              "    <tr>\n",
              "      <th>3</th>\n",
              "      <td>tanh</td>\n",
              "      <td>0.4286</td>\n",
              "    </tr>\n",
              "    <tr>\n",
              "      <th>5</th>\n",
              "      <td>elu</td>\n",
              "      <td>0.2857</td>\n",
              "    </tr>\n",
              "    <tr>\n",
              "      <th>1</th>\n",
              "      <td>relu</td>\n",
              "      <td>0.2701</td>\n",
              "    </tr>\n",
              "    <tr>\n",
              "      <th>0</th>\n",
              "      <td>sigmoid</td>\n",
              "      <td>0.2698</td>\n",
              "    </tr>\n",
              "    <tr>\n",
              "      <th>4</th>\n",
              "      <td>selu</td>\n",
              "      <td>0.2540</td>\n",
              "    </tr>\n",
              "    <tr>\n",
              "      <th>2</th>\n",
              "      <td>softplus</td>\n",
              "      <td>0.2236</td>\n",
              "    </tr>\n",
              "    <tr>\n",
              "      <th>6</th>\n",
              "      <td>exponential</td>\n",
              "      <td>0.1429</td>\n",
              "    </tr>\n",
              "  </tbody>\n",
              "</table>\n",
              "</div>\n",
              "      <button class=\"colab-df-convert\" onclick=\"convertToInteractive('df-4ed72497-9464-455f-ac6f-dcc39b821e94')\"\n",
              "              title=\"Convert this dataframe to an interactive table.\"\n",
              "              style=\"display:none;\">\n",
              "        \n",
              "  <svg xmlns=\"http://www.w3.org/2000/svg\" height=\"24px\"viewBox=\"0 0 24 24\"\n",
              "       width=\"24px\">\n",
              "    <path d=\"M0 0h24v24H0V0z\" fill=\"none\"/>\n",
              "    <path d=\"M18.56 5.44l.94 2.06.94-2.06 2.06-.94-2.06-.94-.94-2.06-.94 2.06-2.06.94zm-11 1L8.5 8.5l.94-2.06 2.06-.94-2.06-.94L8.5 2.5l-.94 2.06-2.06.94zm10 10l.94 2.06.94-2.06 2.06-.94-2.06-.94-.94-2.06-.94 2.06-2.06.94z\"/><path d=\"M17.41 7.96l-1.37-1.37c-.4-.4-.92-.59-1.43-.59-.52 0-1.04.2-1.43.59L10.3 9.45l-7.72 7.72c-.78.78-.78 2.05 0 2.83L4 21.41c.39.39.9.59 1.41.59.51 0 1.02-.2 1.41-.59l7.78-7.78 2.81-2.81c.8-.78.8-2.07 0-2.86zM5.41 20L4 18.59l7.72-7.72 1.47 1.35L5.41 20z\"/>\n",
              "  </svg>\n",
              "      </button>\n",
              "      \n",
              "  <style>\n",
              "    .colab-df-container {\n",
              "      display:flex;\n",
              "      flex-wrap:wrap;\n",
              "      gap: 12px;\n",
              "    }\n",
              "\n",
              "    .colab-df-convert {\n",
              "      background-color: #E8F0FE;\n",
              "      border: none;\n",
              "      border-radius: 50%;\n",
              "      cursor: pointer;\n",
              "      display: none;\n",
              "      fill: #1967D2;\n",
              "      height: 32px;\n",
              "      padding: 0 0 0 0;\n",
              "      width: 32px;\n",
              "    }\n",
              "\n",
              "    .colab-df-convert:hover {\n",
              "      background-color: #E2EBFA;\n",
              "      box-shadow: 0px 1px 2px rgba(60, 64, 67, 0.3), 0px 1px 3px 1px rgba(60, 64, 67, 0.15);\n",
              "      fill: #174EA6;\n",
              "    }\n",
              "\n",
              "    [theme=dark] .colab-df-convert {\n",
              "      background-color: #3B4455;\n",
              "      fill: #D2E3FC;\n",
              "    }\n",
              "\n",
              "    [theme=dark] .colab-df-convert:hover {\n",
              "      background-color: #434B5C;\n",
              "      box-shadow: 0px 1px 3px 1px rgba(0, 0, 0, 0.15);\n",
              "      filter: drop-shadow(0px 1px 2px rgba(0, 0, 0, 0.3));\n",
              "      fill: #FFFFFF;\n",
              "    }\n",
              "  </style>\n",
              "\n",
              "      <script>\n",
              "        const buttonEl =\n",
              "          document.querySelector('#df-4ed72497-9464-455f-ac6f-dcc39b821e94 button.colab-df-convert');\n",
              "        buttonEl.style.display =\n",
              "          google.colab.kernel.accessAllowed ? 'block' : 'none';\n",
              "\n",
              "        async function convertToInteractive(key) {\n",
              "          const element = document.querySelector('#df-4ed72497-9464-455f-ac6f-dcc39b821e94');\n",
              "          const dataTable =\n",
              "            await google.colab.kernel.invokeFunction('convertToInteractive',\n",
              "                                                     [key], {});\n",
              "          if (!dataTable) return;\n",
              "\n",
              "          const docLinkHtml = 'Like what you see? Visit the ' +\n",
              "            '<a target=\"_blank\" href=https://colab.research.google.com/notebooks/data_table.ipynb>data table notebook</a>'\n",
              "            + ' to learn more about interactive tables.';\n",
              "          element.innerHTML = '';\n",
              "          dataTable['output_type'] = 'display_data';\n",
              "          await google.colab.output.renderOutput(dataTable, element);\n",
              "          const docLink = document.createElement('div');\n",
              "          docLink.innerHTML = docLinkHtml;\n",
              "          element.appendChild(docLink);\n",
              "        }\n",
              "      </script>\n",
              "    </div>\n",
              "  </div>\n",
              "  "
            ]
          },
          "metadata": {},
          "execution_count": 13
        }
      ]
    },
    {
      "cell_type": "code",
      "source": [],
      "metadata": {
        "id": "Kw8z1NksBB1a"
      },
      "execution_count": null,
      "outputs": []
    },
    {
      "cell_type": "code",
      "source": [],
      "metadata": {
        "id": "jGznb2rAA6Fj"
      },
      "execution_count": null,
      "outputs": []
    }
  ],
  "metadata": {
    "accelerator": "GPU",
    "colab": {
      "provenance": []
    },
    "gpuClass": "standard",
    "kernelspec": {
      "display_name": "Python 3 (ipykernel)",
      "language": "python",
      "name": "python3"
    },
    "language_info": {
      "codemirror_mode": {
        "name": "ipython",
        "version": 3
      },
      "file_extension": ".py",
      "mimetype": "text/x-python",
      "name": "python",
      "nbconvert_exporter": "python",
      "pygments_lexer": "ipython3",
      "version": "3.7.9"
    }
  },
  "nbformat": 4,
  "nbformat_minor": 0
}